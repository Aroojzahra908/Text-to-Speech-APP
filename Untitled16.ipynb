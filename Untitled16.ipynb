{
  "nbformat": 4,
  "nbformat_minor": 0,
  "metadata": {
    "colab": {
      "provenance": [],
      "gpuType": "T4"
    },
    "kernelspec": {
      "name": "python3",
      "display_name": "Python 3"
    },
    "language_info": {
      "name": "python"
    },
    "accelerator": "GPU"
  },
  "cells": [
    {
      "cell_type": "code",
      "execution_count": null,
      "metadata": {
        "colab": {
          "base_uri": "https://localhost:8080/"
        },
        "id": "2s5PqIovZARK",
        "outputId": "56801307-efca-4619-a1af-68cbd3230423"
      },
      "outputs": [
        {
          "output_type": "stream",
          "name": "stdout",
          "text": [
            "Collecting pyttsx3\n",
            "  Downloading pyttsx3-2.91-py3-none-any.whl.metadata (3.8 kB)\n",
            "Downloading pyttsx3-2.91-py3-none-any.whl (33 kB)\n",
            "Installing collected packages: pyttsx3\n",
            "Successfully installed pyttsx3-2.91\n"
          ]
        }
      ],
      "source": [
        "pip install pyttsx3\n"
      ]
    },
    {
      "cell_type": "code",
      "source": [
        "pip install gTTS\n"
      ],
      "metadata": {
        "id": "EQhxo2w_ZFx5",
        "colab": {
          "base_uri": "https://localhost:8080/"
        },
        "outputId": "617ca54b-2f29-4248-993c-e9127e8357f2"
      },
      "execution_count": null,
      "outputs": [
        {
          "output_type": "stream",
          "name": "stdout",
          "text": [
            "Collecting gTTS\n",
            "  Downloading gTTS-2.5.3-py3-none-any.whl.metadata (4.1 kB)\n",
            "Requirement already satisfied: requests<3,>=2.27 in /usr/local/lib/python3.10/dist-packages (from gTTS) (2.32.3)\n",
            "Requirement already satisfied: click<8.2,>=7.1 in /usr/local/lib/python3.10/dist-packages (from gTTS) (8.1.7)\n",
            "Requirement already satisfied: charset-normalizer<4,>=2 in /usr/local/lib/python3.10/dist-packages (from requests<3,>=2.27->gTTS) (3.3.2)\n",
            "Requirement already satisfied: idna<4,>=2.5 in /usr/local/lib/python3.10/dist-packages (from requests<3,>=2.27->gTTS) (3.8)\n",
            "Requirement already satisfied: urllib3<3,>=1.21.1 in /usr/local/lib/python3.10/dist-packages (from requests<3,>=2.27->gTTS) (2.0.7)\n",
            "Requirement already satisfied: certifi>=2017.4.17 in /usr/local/lib/python3.10/dist-packages (from requests<3,>=2.27->gTTS) (2024.7.4)\n",
            "Downloading gTTS-2.5.3-py3-none-any.whl (29 kB)\n",
            "Installing collected packages: gTTS\n",
            "Successfully installed gTTS-2.5.3\n"
          ]
        }
      ]
    },
    {
      "cell_type": "code",
      "source": [
        "from gtts import gTTS\n",
        "import os\n",
        "\n",
        "# Text to convert to speech\n",
        "text = \"یہ ایک ٹیسٹ ہے۔\"\n",
        "\n",
        "# Create a gTTS object\n",
        "tts = gTTS(text=text, lang='ur')\n",
        "\n",
        "# Save the speech to a file\n",
        "tts.save(\"output.mp3\")\n",
        "\n",
        "# Play the converted file (Windows example)\n",
        "os.system(\"start output.mp3\")\n"
      ],
      "metadata": {
        "id": "lbgzuKHxZJka",
        "colab": {
          "base_uri": "https://localhost:8080/"
        },
        "outputId": "b3ad19e6-9b20-4c02-f9af-b58f5f243bb3"
      },
      "execution_count": null,
      "outputs": [
        {
          "output_type": "execute_result",
          "data": {
            "text/plain": [
              "32512"
            ]
          },
          "metadata": {},
          "execution_count": 7
        }
      ]
    },
    {
      "cell_type": "code",
      "source": [
        "pip install elevenlabs\n"
      ],
      "metadata": {
        "id": "YM8K2q5rZYKy",
        "colab": {
          "base_uri": "https://localhost:8080/"
        },
        "outputId": "d8b5f568-394e-444c-f6f0-f09ab796bcb4"
      },
      "execution_count": null,
      "outputs": [
        {
          "output_type": "stream",
          "name": "stdout",
          "text": [
            "Collecting elevenlabs\n",
            "  Downloading elevenlabs-1.7.0-py3-none-any.whl.metadata (10 kB)\n",
            "Collecting httpx>=0.21.2 (from elevenlabs)\n",
            "  Downloading httpx-0.27.2-py3-none-any.whl.metadata (7.1 kB)\n",
            "Requirement already satisfied: pydantic>=1.9.2 in /usr/local/lib/python3.10/dist-packages (from elevenlabs) (2.8.2)\n",
            "Requirement already satisfied: pydantic-core<3.0.0,>=2.18.2 in /usr/local/lib/python3.10/dist-packages (from elevenlabs) (2.20.1)\n",
            "Requirement already satisfied: requests>=2.20 in /usr/local/lib/python3.10/dist-packages (from elevenlabs) (2.32.3)\n",
            "Requirement already satisfied: typing_extensions>=4.0.0 in /usr/local/lib/python3.10/dist-packages (from elevenlabs) (4.12.2)\n",
            "Collecting websockets>=11.0 (from elevenlabs)\n",
            "  Downloading websockets-13.0.1-cp310-cp310-manylinux_2_5_x86_64.manylinux1_x86_64.manylinux_2_17_x86_64.manylinux2014_x86_64.whl.metadata (6.7 kB)\n",
            "Requirement already satisfied: anyio in /usr/local/lib/python3.10/dist-packages (from httpx>=0.21.2->elevenlabs) (3.7.1)\n",
            "Requirement already satisfied: certifi in /usr/local/lib/python3.10/dist-packages (from httpx>=0.21.2->elevenlabs) (2024.7.4)\n",
            "Collecting httpcore==1.* (from httpx>=0.21.2->elevenlabs)\n",
            "  Downloading httpcore-1.0.5-py3-none-any.whl.metadata (20 kB)\n",
            "Requirement already satisfied: idna in /usr/local/lib/python3.10/dist-packages (from httpx>=0.21.2->elevenlabs) (3.8)\n",
            "Requirement already satisfied: sniffio in /usr/local/lib/python3.10/dist-packages (from httpx>=0.21.2->elevenlabs) (1.3.1)\n",
            "Requirement already satisfied: h11<0.15,>=0.13 in /usr/local/lib/python3.10/dist-packages (from httpcore==1.*->httpx>=0.21.2->elevenlabs) (0.14.0)\n",
            "Requirement already satisfied: annotated-types>=0.4.0 in /usr/local/lib/python3.10/dist-packages (from pydantic>=1.9.2->elevenlabs) (0.7.0)\n",
            "Requirement already satisfied: charset-normalizer<4,>=2 in /usr/local/lib/python3.10/dist-packages (from requests>=2.20->elevenlabs) (3.3.2)\n",
            "Requirement already satisfied: urllib3<3,>=1.21.1 in /usr/local/lib/python3.10/dist-packages (from requests>=2.20->elevenlabs) (2.0.7)\n",
            "Requirement already satisfied: exceptiongroup in /usr/local/lib/python3.10/dist-packages (from anyio->httpx>=0.21.2->elevenlabs) (1.2.2)\n",
            "Downloading elevenlabs-1.7.0-py3-none-any.whl (129 kB)\n",
            "\u001b[2K   \u001b[90m━━━━━━━━━━━━━━━━━━━━━━━━━━━━━━━━━━━━━━━━\u001b[0m \u001b[32m129.2/129.2 kB\u001b[0m \u001b[31m5.2 MB/s\u001b[0m eta \u001b[36m0:00:00\u001b[0m\n",
            "\u001b[?25hDownloading httpx-0.27.2-py3-none-any.whl (76 kB)\n",
            "\u001b[2K   \u001b[90m━━━━━━━━━━━━━━━━━━━━━━━━━━━━━━━━━━━━━━━━\u001b[0m \u001b[32m76.4/76.4 kB\u001b[0m \u001b[31m5.4 MB/s\u001b[0m eta \u001b[36m0:00:00\u001b[0m\n",
            "\u001b[?25hDownloading httpcore-1.0.5-py3-none-any.whl (77 kB)\n",
            "\u001b[2K   \u001b[90m━━━━━━━━━━━━━━━━━━━━━━━━━━━━━━━━━━━━━━━━\u001b[0m \u001b[32m77.9/77.9 kB\u001b[0m \u001b[31m5.7 MB/s\u001b[0m eta \u001b[36m0:00:00\u001b[0m\n",
            "\u001b[?25hDownloading websockets-13.0.1-cp310-cp310-manylinux_2_5_x86_64.manylinux1_x86_64.manylinux_2_17_x86_64.manylinux2014_x86_64.whl (157 kB)\n",
            "\u001b[2K   \u001b[90m━━━━━━━━━━━━━━━━━━━━━━━━━━━━━━━━━━━━━━━━\u001b[0m \u001b[32m157.3/157.3 kB\u001b[0m \u001b[31m11.1 MB/s\u001b[0m eta \u001b[36m0:00:00\u001b[0m\n",
            "\u001b[?25hInstalling collected packages: websockets, httpcore, httpx, elevenlabs\n",
            "  Attempting uninstall: httpcore\n",
            "    Found existing installation: httpcore 0.17.0\n",
            "    Uninstalling httpcore-0.17.0:\n",
            "      Successfully uninstalled httpcore-0.17.0\n",
            "Successfully installed elevenlabs-1.7.0 httpcore-1.0.5 httpx-0.27.2 websockets-13.0.1\n"
          ]
        }
      ]
    },
    {
      "cell_type": "code",
      "source": [
        "from elevenlabs.client import ElevenLabs\n",
        "\n",
        "client = ElevenLabs(api_key=\"sk_eb32544037c475f5b32009b0885eb7fdf8f662210f9a7e73\")\n",
        "import warnings\n",
        "warnings.filterwarnings(\"ignore\")"
      ],
      "metadata": {
        "id": "sfn-mcPB6_gQ",
        "colab": {
          "base_uri": "https://localhost:8080/"
        },
        "outputId": "8dda3483-c493-4b4b-f5a2-61495569f859"
      },
      "execution_count": null,
      "outputs": [
        {
          "output_type": "stream",
          "name": "stderr",
          "text": [
            "/usr/local/lib/python3.10/dist-packages/pydantic/_internal/_config.py:341: UserWarning: Valid config keys have changed in V2:\n",
            "* 'allow_population_by_field_name' has been renamed to 'populate_by_name'\n",
            "* 'smart_union' has been removed\n",
            "  warnings.warn(message, UserWarning)\n",
            "/usr/local/lib/python3.10/dist-packages/pydantic/_internal/_fields.py:161: UserWarning: Field \"model_id\" has conflict with protected namespace \"model_\".\n",
            "\n",
            "You may be able to resolve this warning by setting `model_config['protected_namespaces'] = ()`.\n",
            "  warnings.warn(\n"
          ]
        }
      ]
    },
    {
      "cell_type": "code",
      "source": [
        "response = client.voices.get_all()\n",
        "print(response)\n"
      ],
      "metadata": {
        "colab": {
          "base_uri": "https://localhost:8080/"
        },
        "id": "gn_P-3We7IZc",
        "outputId": "6429c808-4bc5-4ae9-b0f5-7169f5f74376"
      },
      "execution_count": null,
      "outputs": [
        {
          "output_type": "stream",
          "name": "stdout",
          "text": [
            "voices=[Voice(voice_id='EXAVITQu4vr4xnSDxMaL', name='Sarah', samples=None, category='premade', fine_tuning=FineTuningResponse(is_allowed_to_fine_tune=True, state={}, verification_failures=[], verification_attempts_count=0, manual_verification_requested=False, language='en', progress={}, message={}, dataset_duration_seconds=None, verification_attempts=None, slice_ids=None, manual_verification=None, finetuning_state=None), labels={'accent': 'american', 'description': 'soft', 'age': 'young', 'gender': 'female', 'use_case': 'news'}, description=None, preview_url='https://storage.googleapis.com/eleven-public-prod/premade/voices/EXAVITQu4vr4xnSDxMaL/01a3e33c-6e99-4ee7-8543-ff2216a32186.mp3', available_for_tiers=[], settings=None, sharing=None, high_quality_base_model_ids=['eleven_turbo_v2', 'eleven_multilingual_v2', 'eleven_turbo_v2_5'], safety_control=None, voice_verification=VoiceVerificationResponse(requires_verification=False, is_verified=False, verification_failures=[], verification_attempts_count=0, language=None, verification_attempts=None), owner_id=None, permission_on_resource=None, is_legacy=False, is_mixed=False), Voice(voice_id='FGY2WhTYpPnrIDTdsKH5', name='Laura', samples=None, category='premade', fine_tuning=FineTuningResponse(is_allowed_to_fine_tune=True, state={'eleven_multilingual_v2': 'fine_tuned', 'eleven_turbo_v2_5': 'fine_tuned', 'eleven_turbo_v2': 'fine_tuned'}, verification_failures=[], verification_attempts_count=0, manual_verification_requested=False, language='en', progress={}, message={'eleven_multilingual_v2': '', 'eleven_turbo_v2_5': '', 'eleven_turbo_v2': ''}, dataset_duration_seconds=None, verification_attempts=None, slice_ids=None, manual_verification=None, finetuning_state=None), labels={'accent': 'American', 'description': 'upbeat', 'age': 'young', 'gender': 'female', 'use_case': 'social media'}, description=None, preview_url='https://storage.googleapis.com/eleven-public-prod/premade/voices/FGY2WhTYpPnrIDTdsKH5/67341759-ad08-41a5-be6e-de12fe448618.mp3', available_for_tiers=[], settings=None, sharing=None, high_quality_base_model_ids=['eleven_turbo_v2', 'eleven_multilingual_v2', 'eleven_turbo_v2_5'], safety_control=None, voice_verification=VoiceVerificationResponse(requires_verification=False, is_verified=False, verification_failures=[], verification_attempts_count=0, language=None, verification_attempts=None), owner_id=None, permission_on_resource=None, is_legacy=False, is_mixed=False), Voice(voice_id='IKne3meq5aSn9XLyUdCD', name='Charlie', samples=None, category='premade', fine_tuning=FineTuningResponse(is_allowed_to_fine_tune=True, state={'eleven_turbo_v2': 'fine_tuned'}, verification_failures=[], verification_attempts_count=0, manual_verification_requested=False, language='en', progress={}, message={'eleven_turbo_v2': ''}, dataset_duration_seconds=None, verification_attempts=None, slice_ids=None, manual_verification=None, finetuning_state=None), labels={'accent': 'Australian', 'description': 'natural', 'age': 'middle aged', 'gender': 'male', 'use_case': 'conversational'}, description=None, preview_url='https://storage.googleapis.com/eleven-public-prod/premade/voices/IKne3meq5aSn9XLyUdCD/102de6f2-22ed-43e0-a1f1-111fa75c5481.mp3', available_for_tiers=[], settings=None, sharing=None, high_quality_base_model_ids=['eleven_multilingual_v1', 'eleven_turbo_v2', 'eleven_multilingual_v2', 'eleven_turbo_v2_5'], safety_control=None, voice_verification=VoiceVerificationResponse(requires_verification=False, is_verified=False, verification_failures=[], verification_attempts_count=0, language=None, verification_attempts=None), owner_id=None, permission_on_resource=None, is_legacy=False, is_mixed=False), Voice(voice_id='JBFqnCBsd6RMkjVDRZzb', name='George', samples=None, category='premade', fine_tuning=FineTuningResponse(is_allowed_to_fine_tune=True, state={'eleven_turbo_v2': 'fine_tuned'}, verification_failures=[], verification_attempts_count=0, manual_verification_requested=False, language='en', progress={}, message={'eleven_turbo_v2': ''}, dataset_duration_seconds=None, verification_attempts=None, slice_ids=None, manual_verification=None, finetuning_state=None), labels={'accent': 'British', 'description': 'warm', 'age': 'middle aged', 'gender': 'male', 'use_case': 'narration'}, description=None, preview_url='https://storage.googleapis.com/eleven-public-prod/premade/voices/JBFqnCBsd6RMkjVDRZzb/e6206d1a-0721-4787-aafb-06a6e705cac5.mp3', available_for_tiers=[], settings=None, sharing=None, high_quality_base_model_ids=['eleven_turbo_v2', 'eleven_multilingual_v2', 'eleven_turbo_v2_5'], safety_control=None, voice_verification=VoiceVerificationResponse(requires_verification=False, is_verified=False, verification_failures=[], verification_attempts_count=0, language=None, verification_attempts=None), owner_id=None, permission_on_resource=None, is_legacy=False, is_mixed=False), Voice(voice_id='N2lVS1w4EtoT3dr4eOWO', name='Callum', samples=None, category='premade', fine_tuning=FineTuningResponse(is_allowed_to_fine_tune=True, state={'eleven_turbo_v2': 'fine_tuned'}, verification_failures=[], verification_attempts_count=0, manual_verification_requested=False, language='en', progress={}, message={'eleven_turbo_v2': ''}, dataset_duration_seconds=None, verification_attempts=None, slice_ids=None, manual_verification=None, finetuning_state=None), labels={'accent': 'Transatlantic', 'description': 'intense', 'age': 'middle-aged', 'gender': 'male', 'use_case': 'characters'}, description=None, preview_url='https://storage.googleapis.com/eleven-public-prod/premade/voices/N2lVS1w4EtoT3dr4eOWO/ac833bd8-ffda-4938-9ebc-b0f99ca25481.mp3', available_for_tiers=[], settings=None, sharing=None, high_quality_base_model_ids=['eleven_multilingual_v1', 'eleven_turbo_v2', 'eleven_multilingual_v2', 'eleven_turbo_v2_5'], safety_control=None, voice_verification=VoiceVerificationResponse(requires_verification=False, is_verified=False, verification_failures=[], verification_attempts_count=0, language=None, verification_attempts=None), owner_id=None, permission_on_resource=None, is_legacy=False, is_mixed=False), Voice(voice_id='TX3LPaxmHKxFdv7VOQHJ', name='Liam', samples=None, category='premade', fine_tuning=FineTuningResponse(is_allowed_to_fine_tune=True, state={'eleven_turbo_v2': 'fine_tuned'}, verification_failures=[], verification_attempts_count=0, manual_verification_requested=False, language='en', progress={}, message={'eleven_turbo_v2': ''}, dataset_duration_seconds=None, verification_attempts=None, slice_ids=None, manual_verification=None, finetuning_state=None), labels={'accent': 'American', 'description': 'articulate', 'age': 'young', 'gender': 'male', 'use_case': 'narration'}, description=None, preview_url='https://storage.googleapis.com/eleven-public-prod/premade/voices/TX3LPaxmHKxFdv7VOQHJ/63148076-6363-42db-aea8-31424308b92c.mp3', available_for_tiers=[], settings=None, sharing=None, high_quality_base_model_ids=['eleven_multilingual_v1', 'eleven_turbo_v2', 'eleven_multilingual_v2', 'eleven_turbo_v2_5'], safety_control=None, voice_verification=VoiceVerificationResponse(requires_verification=False, is_verified=False, verification_failures=[], verification_attempts_count=0, language=None, verification_attempts=None), owner_id=None, permission_on_resource=None, is_legacy=False, is_mixed=False), Voice(voice_id='XB0fDUnXU5powFXDhCwa', name='Charlotte', samples=None, category='premade', fine_tuning=FineTuningResponse(is_allowed_to_fine_tune=True, state={'eleven_turbo_v2': 'fine_tuned'}, verification_failures=[], verification_attempts_count=0, manual_verification_requested=False, language='en', progress={}, message={'eleven_multilingual_v2': '', 'eleven_turbo_v2_5': '', 'eleven_turbo_v2': ''}, dataset_duration_seconds=None, verification_attempts=None, slice_ids=None, manual_verification=None, finetuning_state=None), labels={'accent': 'Swedish', 'description': 'seductive', 'age': 'young', 'gender': 'female', 'use_case': 'characters'}, description=None, preview_url='https://storage.googleapis.com/eleven-public-prod/premade/voices/XB0fDUnXU5powFXDhCwa/942356dc-f10d-4d89-bda5-4f8505ee038b.mp3', available_for_tiers=[], settings=None, sharing=None, high_quality_base_model_ids=['eleven_multilingual_v1', 'eleven_turbo_v2', 'eleven_multilingual_v2', 'eleven_turbo_v2_5'], safety_control=None, voice_verification=VoiceVerificationResponse(requires_verification=False, is_verified=False, verification_failures=[], verification_attempts_count=0, language=None, verification_attempts=None), owner_id=None, permission_on_resource=None, is_legacy=False, is_mixed=False), Voice(voice_id='Xb7hH8MSUJpSbSDYk0k2', name='Alice', samples=None, category='premade', fine_tuning=FineTuningResponse(is_allowed_to_fine_tune=True, state={'eleven_turbo_v2': 'fine_tuned'}, verification_failures=[], verification_attempts_count=0, manual_verification_requested=False, language='en', progress={}, message={'eleven_turbo_v2': ''}, dataset_duration_seconds=None, verification_attempts=None, slice_ids=None, manual_verification=None, finetuning_state=None), labels={'accent': 'British', 'description': 'confident', 'age': 'middle-aged', 'gender': 'female', 'use_case': 'news'}, description=None, preview_url='https://storage.googleapis.com/eleven-public-prod/premade/voices/Xb7hH8MSUJpSbSDYk0k2/d10f7534-11f6-41fe-a012-2de1e482d336.mp3', available_for_tiers=[], settings=None, sharing=None, high_quality_base_model_ids=['eleven_turbo_v2', 'eleven_multilingual_v2', 'eleven_turbo_v2_5'], safety_control=None, voice_verification=VoiceVerificationResponse(requires_verification=False, is_verified=False, verification_failures=[], verification_attempts_count=0, language=None, verification_attempts=None), owner_id=None, permission_on_resource=None, is_legacy=False, is_mixed=False), Voice(voice_id='XrExE9yKIg1WjnnlVkGX', name='Matilda', samples=None, category='premade', fine_tuning=FineTuningResponse(is_allowed_to_fine_tune=True, state={'eleven_turbo_v2': 'fine_tuned'}, verification_failures=[], verification_attempts_count=0, manual_verification_requested=False, language='en', progress={}, message={'eleven_turbo_v2': ''}, dataset_duration_seconds=None, verification_attempts=None, slice_ids=None, manual_verification=None, finetuning_state=None), labels={'accent': 'American', 'description': 'friendly', 'age': 'middle-aged', 'gender': 'female', 'use_case': 'narration'}, description=None, preview_url='https://storage.googleapis.com/eleven-public-prod/premade/voices/XrExE9yKIg1WjnnlVkGX/b930e18d-6b4d-466e-bab2-0ae97c6d8535.mp3', available_for_tiers=[], settings=None, sharing=None, high_quality_base_model_ids=['eleven_multilingual_v1', 'eleven_turbo_v2', 'eleven_multilingual_v2', 'eleven_turbo_v2_5'], safety_control=None, voice_verification=VoiceVerificationResponse(requires_verification=False, is_verified=False, verification_failures=[], verification_attempts_count=0, language=None, verification_attempts=None), owner_id=None, permission_on_resource=None, is_legacy=False, is_mixed=False), Voice(voice_id='bIHbv24MWmeRgasZH58o', name='Will', samples=None, category='premade', fine_tuning=FineTuningResponse(is_allowed_to_fine_tune=True, state={'eleven_multilingual_v2': 'fine_tuned', 'eleven_turbo_v2_5': 'fine_tuned', 'eleven_turbo_v2': 'fine_tuned'}, verification_failures=[], verification_attempts_count=0, manual_verification_requested=False, language='en', progress={}, message={'eleven_multilingual_v2': '', 'eleven_turbo_v2_5': '', 'eleven_turbo_v2': ''}, dataset_duration_seconds=None, verification_attempts=None, slice_ids=None, manual_verification=None, finetuning_state=None), labels={'accent': 'American', 'description': 'friendly', 'age': 'young', 'gender': 'male', 'use_case': 'social media'}, description=None, preview_url='https://storage.googleapis.com/eleven-public-prod/premade/voices/bIHbv24MWmeRgasZH58o/8caf8f3d-ad29-4980-af41-53f20c72d7a4.mp3', available_for_tiers=[], settings=None, sharing=None, high_quality_base_model_ids=['eleven_turbo_v2', 'eleven_multilingual_v2', 'eleven_turbo_v2_5'], safety_control=None, voice_verification=VoiceVerificationResponse(requires_verification=False, is_verified=False, verification_failures=[], verification_attempts_count=0, language=None, verification_attempts=None), owner_id=None, permission_on_resource=None, is_legacy=False, is_mixed=False), Voice(voice_id='cgSgspJ2msm6clMCkdW9', name='Jessica', samples=None, category='premade', fine_tuning=FineTuningResponse(is_allowed_to_fine_tune=True, state={'eleven_multilingual_v2': 'fine_tuned', 'eleven_turbo_v2_5': 'fine_tuned', 'eleven_turbo_v2': 'fine_tuned'}, verification_failures=[], verification_attempts_count=0, manual_verification_requested=False, language='en', progress={}, message={'eleven_multilingual_v2': '', 'eleven_turbo_v2_5': '', 'eleven_turbo_v2': ''}, dataset_duration_seconds=None, verification_attempts=None, slice_ids=None, manual_verification=None, finetuning_state=None), labels={'accent': 'American', 'description': 'expressive', 'age': 'young', 'gender': 'female', 'use_case': 'conversational'}, description=None, preview_url='https://storage.googleapis.com/eleven-public-prod/premade/voices/cgSgspJ2msm6clMCkdW9/56a97bf8-b69b-448f-846c-c3a11683d45a.mp3', available_for_tiers=[], settings=None, sharing=None, high_quality_base_model_ids=['eleven_turbo_v2', 'eleven_multilingual_v2', 'eleven_turbo_v2_5'], safety_control=None, voice_verification=VoiceVerificationResponse(requires_verification=False, is_verified=False, verification_failures=[], verification_attempts_count=0, language=None, verification_attempts=None), owner_id=None, permission_on_resource=None, is_legacy=False, is_mixed=False), Voice(voice_id='cjVigY5qzO86Huf0OWal', name='Eric', samples=None, category='premade', fine_tuning=FineTuningResponse(is_allowed_to_fine_tune=True, state={'eleven_multilingual_v2': 'fine_tuned', 'eleven_turbo_v2_5': 'fine_tuned', 'eleven_turbo_v2': 'fine_tuned'}, verification_failures=[], verification_attempts_count=0, manual_verification_requested=False, language='en', progress={}, message={'eleven_multilingual_v2': '', 'eleven_turbo_v2_5': '', 'eleven_turbo_v2': ''}, dataset_duration_seconds=None, verification_attempts=None, slice_ids=None, manual_verification=None, finetuning_state=None), labels={'accent': 'American', 'description': 'friendly', 'age': 'middle-aged', 'gender': 'male', 'use_case': 'conversational'}, description=None, preview_url='https://storage.googleapis.com/eleven-public-prod/premade/voices/cjVigY5qzO86Huf0OWal/d098fda0-6456-4030-b3d8-63aa048c9070.mp3', available_for_tiers=[], settings=None, sharing=None, high_quality_base_model_ids=['eleven_turbo_v2', 'eleven_multilingual_v2', 'eleven_turbo_v2_5'], safety_control=None, voice_verification=VoiceVerificationResponse(requires_verification=False, is_verified=False, verification_failures=[], verification_attempts_count=0, language=None, verification_attempts=None), owner_id=None, permission_on_resource=None, is_legacy=False, is_mixed=False), Voice(voice_id='iP95p4xoKVk53GoZ742B', name='Chris', samples=None, category='premade', fine_tuning=FineTuningResponse(is_allowed_to_fine_tune=True, state={'eleven_turbo_v2': 'fine_tuned'}, verification_failures=[], verification_attempts_count=0, manual_verification_requested=False, language='en', progress={}, message={'eleven_turbo_v2': ''}, dataset_duration_seconds=None, verification_attempts=None, slice_ids=None, manual_verification=None, finetuning_state=None), labels={'accent': 'American', 'description': 'casual', 'age': 'middle-aged', 'gender': 'male', 'use_case': 'conversational'}, description=None, preview_url='https://storage.googleapis.com/eleven-public-prod/premade/voices/iP95p4xoKVk53GoZ742B/3f4bde72-cc48-40dd-829f-57fbf906f4d7.mp3', available_for_tiers=[], settings=None, sharing=None, high_quality_base_model_ids=['eleven_turbo_v2', 'eleven_multilingual_v2', 'eleven_turbo_v2_5'], safety_control=None, voice_verification=VoiceVerificationResponse(requires_verification=False, is_verified=False, verification_failures=[], verification_attempts_count=0, language=None, verification_attempts=None), owner_id=None, permission_on_resource=None, is_legacy=False, is_mixed=False), Voice(voice_id='nPczCjzI2devNBz1zQrb', name='Brian', samples=None, category='premade', fine_tuning=FineTuningResponse(is_allowed_to_fine_tune=True, state={'eleven_turbo_v2': 'fine_tuned'}, verification_failures=[], verification_attempts_count=0, manual_verification_requested=False, language='en', progress={}, message={'eleven_turbo_v2': ''}, dataset_duration_seconds=None, verification_attempts=None, slice_ids=None, manual_verification=None, finetuning_state=None), labels={'accent': 'American', 'description': 'deep', 'age': 'middle-aged', 'gender': 'male', 'use_case': 'narration'}, description=None, preview_url='https://storage.googleapis.com/eleven-public-prod/premade/voices/nPczCjzI2devNBz1zQrb/2dd3e72c-4fd3-42f1-93ea-abc5d4e5aa1d.mp3', available_for_tiers=[], settings=None, sharing=None, high_quality_base_model_ids=['eleven_turbo_v2', 'eleven_multilingual_v2', 'eleven_turbo_v2_5'], safety_control=None, voice_verification=VoiceVerificationResponse(requires_verification=False, is_verified=False, verification_failures=[], verification_attempts_count=0, language=None, verification_attempts=None), owner_id=None, permission_on_resource=None, is_legacy=False, is_mixed=False), Voice(voice_id='onwK4e9ZLuTAKqWW03F9', name='Daniel', samples=None, category='premade', fine_tuning=FineTuningResponse(is_allowed_to_fine_tune=True, state={'eleven_turbo_v2': 'fine_tuned'}, verification_failures=[], verification_attempts_count=0, manual_verification_requested=False, language='en', progress={}, message={'eleven_turbo_v2': ''}, dataset_duration_seconds=None, verification_attempts=None, slice_ids=None, manual_verification=None, finetuning_state=None), labels={'accent': 'British', 'description': 'authoritative', 'age': 'middle-aged', 'gender': 'male', 'use_case': 'news'}, description=None, preview_url='https://storage.googleapis.com/eleven-public-prod/premade/voices/onwK4e9ZLuTAKqWW03F9/7eee0236-1a72-4b86-b303-5dcadc007ba9.mp3', available_for_tiers=[], settings=None, sharing=None, high_quality_base_model_ids=['eleven_multilingual_v1', 'eleven_turbo_v2', 'eleven_multilingual_v2', 'eleven_turbo_v2_5'], safety_control=None, voice_verification=VoiceVerificationResponse(requires_verification=False, is_verified=False, verification_failures=[], verification_attempts_count=0, language=None, verification_attempts=None), owner_id=None, permission_on_resource=None, is_legacy=False, is_mixed=False), Voice(voice_id='pFZP5JQG7iQjIQuC4Bku', name='Lily', samples=None, category='premade', fine_tuning=FineTuningResponse(is_allowed_to_fine_tune=True, state={'eleven_turbo_v2': 'fine_tuned'}, verification_failures=[], verification_attempts_count=0, manual_verification_requested=False, language='en', progress={}, message={'eleven_turbo_v2': ''}, dataset_duration_seconds=None, verification_attempts=None, slice_ids=None, manual_verification=None, finetuning_state=None), labels={'accent': 'British', 'description': 'warm', 'age': 'middle-aged', 'gender': 'female', 'use_case': 'narration'}, description=None, preview_url='https://storage.googleapis.com/eleven-public-prod/premade/voices/pFZP5JQG7iQjIQuC4Bku/89b68b35-b3dd-4348-a84a-a3c13a3c2b30.mp3', available_for_tiers=[], settings=None, sharing=None, high_quality_base_model_ids=['eleven_turbo_v2', 'eleven_multilingual_v2', 'eleven_turbo_v2_5'], safety_control=None, voice_verification=VoiceVerificationResponse(requires_verification=False, is_verified=False, verification_failures=[], verification_attempts_count=0, language=None, verification_attempts=None), owner_id=None, permission_on_resource=None, is_legacy=False, is_mixed=False), Voice(voice_id='pqHfZKP75CvOlQylNhV4', name='Bill', samples=None, category='premade', fine_tuning=FineTuningResponse(is_allowed_to_fine_tune=True, state={'eleven_turbo_v2': 'fine_tuned'}, verification_failures=[], verification_attempts_count=0, manual_verification_requested=False, language='en', progress={}, message={'eleven_turbo_v2': ''}, dataset_duration_seconds=None, verification_attempts=None, slice_ids=None, manual_verification=None, finetuning_state=None), labels={'accent': 'American', 'description': 'trustworthy', 'age': 'old', 'gender': 'male', 'use_case': 'narration'}, description=None, preview_url='https://storage.googleapis.com/eleven-public-prod/premade/voices/pqHfZKP75CvOlQylNhV4/d782b3ff-84ba-4029-848c-acf01285524d.mp3', available_for_tiers=[], settings=None, sharing=None, high_quality_base_model_ids=['eleven_turbo_v2', 'eleven_multilingual_v2', 'eleven_turbo_v2_5'], safety_control=None, voice_verification=VoiceVerificationResponse(requires_verification=False, is_verified=False, verification_failures=[], verification_attempts_count=0, language=None, verification_attempts=None), owner_id=None, permission_on_resource=None, is_legacy=False, is_mixed=False)]\n"
          ]
        }
      ]
    },
    {
      "cell_type": "code",
      "source": [
        "from elevenlabs.client import ElevenLabs\n",
        "\n",
        "client = ElevenLabs(\n",
        "  api_key=\"sk_eb32544037c475f5b32009b0885eb7fdf8f662210f9a7e73\" # Defaults to ELEVEN_API_KEY\n",
        ")"
      ],
      "metadata": {
        "id": "AKozLFLABMkw"
      },
      "execution_count": null,
      "outputs": []
    },
    {
      "cell_type": "code",
      "source": [
        "from elevenlabs.client import ElevenLabs\n",
        "\n",
        "client = ElevenLabs(\n",
        "  api_key=\"sk_eb32544037c475f5b32009b0885eb7fdf8f662210f9a7e73\", # Defaults to ELEVEN_API_KEY\n",
        ")\n",
        "\n",
        "response = client.voices.get_all()\n",
        "audio = client.generate(text=\"Hello there!\", voice=response.voices[0])\n",
        "print(response.voices)"
      ],
      "metadata": {
        "colab": {
          "base_uri": "https://localhost:8080/"
        },
        "id": "g0w3JM7BBM7H",
        "outputId": "f23970f6-4d12-41ce-8691-a9cb443e15ab"
      },
      "execution_count": null,
      "outputs": [
        {
          "output_type": "stream",
          "name": "stdout",
          "text": [
            "[Voice(voice_id='EXAVITQu4vr4xnSDxMaL', name='Sarah', samples=None, category='premade', fine_tuning=FineTuningResponse(is_allowed_to_fine_tune=True, state={}, verification_failures=[], verification_attempts_count=0, manual_verification_requested=False, language='en', progress={}, message={}, dataset_duration_seconds=None, verification_attempts=None, slice_ids=None, manual_verification=None, finetuning_state=None), labels={'accent': 'american', 'description': 'soft', 'age': 'young', 'gender': 'female', 'use_case': 'news'}, description=None, preview_url='https://storage.googleapis.com/eleven-public-prod/premade/voices/EXAVITQu4vr4xnSDxMaL/01a3e33c-6e99-4ee7-8543-ff2216a32186.mp3', available_for_tiers=[], settings=None, sharing=None, high_quality_base_model_ids=['eleven_turbo_v2', 'eleven_multilingual_v2', 'eleven_turbo_v2_5'], safety_control=None, voice_verification=VoiceVerificationResponse(requires_verification=False, is_verified=False, verification_failures=[], verification_attempts_count=0, language=None, verification_attempts=None), owner_id=None, permission_on_resource=None, is_legacy=False, is_mixed=False), Voice(voice_id='FGY2WhTYpPnrIDTdsKH5', name='Laura', samples=None, category='premade', fine_tuning=FineTuningResponse(is_allowed_to_fine_tune=True, state={'eleven_multilingual_v2': 'fine_tuned', 'eleven_turbo_v2_5': 'fine_tuned', 'eleven_turbo_v2': 'fine_tuned'}, verification_failures=[], verification_attempts_count=0, manual_verification_requested=False, language='en', progress={}, message={'eleven_multilingual_v2': '', 'eleven_turbo_v2_5': '', 'eleven_turbo_v2': ''}, dataset_duration_seconds=None, verification_attempts=None, slice_ids=None, manual_verification=None, finetuning_state=None), labels={'accent': 'American', 'description': 'upbeat', 'age': 'young', 'gender': 'female', 'use_case': 'social media'}, description=None, preview_url='https://storage.googleapis.com/eleven-public-prod/premade/voices/FGY2WhTYpPnrIDTdsKH5/67341759-ad08-41a5-be6e-de12fe448618.mp3', available_for_tiers=[], settings=None, sharing=None, high_quality_base_model_ids=['eleven_turbo_v2', 'eleven_multilingual_v2', 'eleven_turbo_v2_5'], safety_control=None, voice_verification=VoiceVerificationResponse(requires_verification=False, is_verified=False, verification_failures=[], verification_attempts_count=0, language=None, verification_attempts=None), owner_id=None, permission_on_resource=None, is_legacy=False, is_mixed=False), Voice(voice_id='IKne3meq5aSn9XLyUdCD', name='Charlie', samples=None, category='premade', fine_tuning=FineTuningResponse(is_allowed_to_fine_tune=True, state={'eleven_turbo_v2': 'fine_tuned'}, verification_failures=[], verification_attempts_count=0, manual_verification_requested=False, language='en', progress={}, message={'eleven_turbo_v2': ''}, dataset_duration_seconds=None, verification_attempts=None, slice_ids=None, manual_verification=None, finetuning_state=None), labels={'accent': 'Australian', 'description': 'natural', 'age': 'middle aged', 'gender': 'male', 'use_case': 'conversational'}, description=None, preview_url='https://storage.googleapis.com/eleven-public-prod/premade/voices/IKne3meq5aSn9XLyUdCD/102de6f2-22ed-43e0-a1f1-111fa75c5481.mp3', available_for_tiers=[], settings=None, sharing=None, high_quality_base_model_ids=['eleven_multilingual_v1', 'eleven_turbo_v2', 'eleven_multilingual_v2', 'eleven_turbo_v2_5'], safety_control=None, voice_verification=VoiceVerificationResponse(requires_verification=False, is_verified=False, verification_failures=[], verification_attempts_count=0, language=None, verification_attempts=None), owner_id=None, permission_on_resource=None, is_legacy=False, is_mixed=False), Voice(voice_id='JBFqnCBsd6RMkjVDRZzb', name='George', samples=None, category='premade', fine_tuning=FineTuningResponse(is_allowed_to_fine_tune=True, state={'eleven_turbo_v2': 'fine_tuned'}, verification_failures=[], verification_attempts_count=0, manual_verification_requested=False, language='en', progress={}, message={'eleven_turbo_v2': ''}, dataset_duration_seconds=None, verification_attempts=None, slice_ids=None, manual_verification=None, finetuning_state=None), labels={'accent': 'British', 'description': 'warm', 'age': 'middle aged', 'gender': 'male', 'use_case': 'narration'}, description=None, preview_url='https://storage.googleapis.com/eleven-public-prod/premade/voices/JBFqnCBsd6RMkjVDRZzb/e6206d1a-0721-4787-aafb-06a6e705cac5.mp3', available_for_tiers=[], settings=None, sharing=None, high_quality_base_model_ids=['eleven_turbo_v2', 'eleven_multilingual_v2', 'eleven_turbo_v2_5'], safety_control=None, voice_verification=VoiceVerificationResponse(requires_verification=False, is_verified=False, verification_failures=[], verification_attempts_count=0, language=None, verification_attempts=None), owner_id=None, permission_on_resource=None, is_legacy=False, is_mixed=False), Voice(voice_id='N2lVS1w4EtoT3dr4eOWO', name='Callum', samples=None, category='premade', fine_tuning=FineTuningResponse(is_allowed_to_fine_tune=True, state={'eleven_turbo_v2': 'fine_tuned'}, verification_failures=[], verification_attempts_count=0, manual_verification_requested=False, language='en', progress={}, message={'eleven_turbo_v2': ''}, dataset_duration_seconds=None, verification_attempts=None, slice_ids=None, manual_verification=None, finetuning_state=None), labels={'accent': 'Transatlantic', 'description': 'intense', 'age': 'middle-aged', 'gender': 'male', 'use_case': 'characters'}, description=None, preview_url='https://storage.googleapis.com/eleven-public-prod/premade/voices/N2lVS1w4EtoT3dr4eOWO/ac833bd8-ffda-4938-9ebc-b0f99ca25481.mp3', available_for_tiers=[], settings=None, sharing=None, high_quality_base_model_ids=['eleven_multilingual_v1', 'eleven_turbo_v2', 'eleven_multilingual_v2', 'eleven_turbo_v2_5'], safety_control=None, voice_verification=VoiceVerificationResponse(requires_verification=False, is_verified=False, verification_failures=[], verification_attempts_count=0, language=None, verification_attempts=None), owner_id=None, permission_on_resource=None, is_legacy=False, is_mixed=False), Voice(voice_id='TX3LPaxmHKxFdv7VOQHJ', name='Liam', samples=None, category='premade', fine_tuning=FineTuningResponse(is_allowed_to_fine_tune=True, state={'eleven_turbo_v2': 'fine_tuned'}, verification_failures=[], verification_attempts_count=0, manual_verification_requested=False, language='en', progress={}, message={'eleven_turbo_v2': ''}, dataset_duration_seconds=None, verification_attempts=None, slice_ids=None, manual_verification=None, finetuning_state=None), labels={'accent': 'American', 'description': 'articulate', 'age': 'young', 'gender': 'male', 'use_case': 'narration'}, description=None, preview_url='https://storage.googleapis.com/eleven-public-prod/premade/voices/TX3LPaxmHKxFdv7VOQHJ/63148076-6363-42db-aea8-31424308b92c.mp3', available_for_tiers=[], settings=None, sharing=None, high_quality_base_model_ids=['eleven_multilingual_v1', 'eleven_turbo_v2', 'eleven_multilingual_v2', 'eleven_turbo_v2_5'], safety_control=None, voice_verification=VoiceVerificationResponse(requires_verification=False, is_verified=False, verification_failures=[], verification_attempts_count=0, language=None, verification_attempts=None), owner_id=None, permission_on_resource=None, is_legacy=False, is_mixed=False), Voice(voice_id='XB0fDUnXU5powFXDhCwa', name='Charlotte', samples=None, category='premade', fine_tuning=FineTuningResponse(is_allowed_to_fine_tune=True, state={'eleven_turbo_v2': 'fine_tuned'}, verification_failures=[], verification_attempts_count=0, manual_verification_requested=False, language='en', progress={}, message={'eleven_multilingual_v2': '', 'eleven_turbo_v2_5': '', 'eleven_turbo_v2': ''}, dataset_duration_seconds=None, verification_attempts=None, slice_ids=None, manual_verification=None, finetuning_state=None), labels={'accent': 'Swedish', 'description': 'seductive', 'age': 'young', 'gender': 'female', 'use_case': 'characters'}, description=None, preview_url='https://storage.googleapis.com/eleven-public-prod/premade/voices/XB0fDUnXU5powFXDhCwa/942356dc-f10d-4d89-bda5-4f8505ee038b.mp3', available_for_tiers=[], settings=None, sharing=None, high_quality_base_model_ids=['eleven_multilingual_v1', 'eleven_turbo_v2', 'eleven_multilingual_v2', 'eleven_turbo_v2_5'], safety_control=None, voice_verification=VoiceVerificationResponse(requires_verification=False, is_verified=False, verification_failures=[], verification_attempts_count=0, language=None, verification_attempts=None), owner_id=None, permission_on_resource=None, is_legacy=False, is_mixed=False), Voice(voice_id='Xb7hH8MSUJpSbSDYk0k2', name='Alice', samples=None, category='premade', fine_tuning=FineTuningResponse(is_allowed_to_fine_tune=True, state={'eleven_turbo_v2': 'fine_tuned'}, verification_failures=[], verification_attempts_count=0, manual_verification_requested=False, language='en', progress={}, message={'eleven_turbo_v2': ''}, dataset_duration_seconds=None, verification_attempts=None, slice_ids=None, manual_verification=None, finetuning_state=None), labels={'accent': 'British', 'description': 'confident', 'age': 'middle-aged', 'gender': 'female', 'use_case': 'news'}, description=None, preview_url='https://storage.googleapis.com/eleven-public-prod/premade/voices/Xb7hH8MSUJpSbSDYk0k2/d10f7534-11f6-41fe-a012-2de1e482d336.mp3', available_for_tiers=[], settings=None, sharing=None, high_quality_base_model_ids=['eleven_turbo_v2', 'eleven_multilingual_v2', 'eleven_turbo_v2_5'], safety_control=None, voice_verification=VoiceVerificationResponse(requires_verification=False, is_verified=False, verification_failures=[], verification_attempts_count=0, language=None, verification_attempts=None), owner_id=None, permission_on_resource=None, is_legacy=False, is_mixed=False), Voice(voice_id='XrExE9yKIg1WjnnlVkGX', name='Matilda', samples=None, category='premade', fine_tuning=FineTuningResponse(is_allowed_to_fine_tune=True, state={'eleven_turbo_v2': 'fine_tuned'}, verification_failures=[], verification_attempts_count=0, manual_verification_requested=False, language='en', progress={}, message={'eleven_turbo_v2': ''}, dataset_duration_seconds=None, verification_attempts=None, slice_ids=None, manual_verification=None, finetuning_state=None), labels={'accent': 'American', 'description': 'friendly', 'age': 'middle-aged', 'gender': 'female', 'use_case': 'narration'}, description=None, preview_url='https://storage.googleapis.com/eleven-public-prod/premade/voices/XrExE9yKIg1WjnnlVkGX/b930e18d-6b4d-466e-bab2-0ae97c6d8535.mp3', available_for_tiers=[], settings=None, sharing=None, high_quality_base_model_ids=['eleven_multilingual_v1', 'eleven_turbo_v2', 'eleven_multilingual_v2', 'eleven_turbo_v2_5'], safety_control=None, voice_verification=VoiceVerificationResponse(requires_verification=False, is_verified=False, verification_failures=[], verification_attempts_count=0, language=None, verification_attempts=None), owner_id=None, permission_on_resource=None, is_legacy=False, is_mixed=False), Voice(voice_id='bIHbv24MWmeRgasZH58o', name='Will', samples=None, category='premade', fine_tuning=FineTuningResponse(is_allowed_to_fine_tune=True, state={'eleven_multilingual_v2': 'fine_tuned', 'eleven_turbo_v2_5': 'fine_tuned', 'eleven_turbo_v2': 'fine_tuned'}, verification_failures=[], verification_attempts_count=0, manual_verification_requested=False, language='en', progress={}, message={'eleven_multilingual_v2': '', 'eleven_turbo_v2_5': '', 'eleven_turbo_v2': ''}, dataset_duration_seconds=None, verification_attempts=None, slice_ids=None, manual_verification=None, finetuning_state=None), labels={'accent': 'American', 'description': 'friendly', 'age': 'young', 'gender': 'male', 'use_case': 'social media'}, description=None, preview_url='https://storage.googleapis.com/eleven-public-prod/premade/voices/bIHbv24MWmeRgasZH58o/8caf8f3d-ad29-4980-af41-53f20c72d7a4.mp3', available_for_tiers=[], settings=None, sharing=None, high_quality_base_model_ids=['eleven_turbo_v2', 'eleven_multilingual_v2', 'eleven_turbo_v2_5'], safety_control=None, voice_verification=VoiceVerificationResponse(requires_verification=False, is_verified=False, verification_failures=[], verification_attempts_count=0, language=None, verification_attempts=None), owner_id=None, permission_on_resource=None, is_legacy=False, is_mixed=False), Voice(voice_id='cgSgspJ2msm6clMCkdW9', name='Jessica', samples=None, category='premade', fine_tuning=FineTuningResponse(is_allowed_to_fine_tune=True, state={'eleven_multilingual_v2': 'fine_tuned', 'eleven_turbo_v2_5': 'fine_tuned', 'eleven_turbo_v2': 'fine_tuned'}, verification_failures=[], verification_attempts_count=0, manual_verification_requested=False, language='en', progress={}, message={'eleven_multilingual_v2': '', 'eleven_turbo_v2_5': '', 'eleven_turbo_v2': ''}, dataset_duration_seconds=None, verification_attempts=None, slice_ids=None, manual_verification=None, finetuning_state=None), labels={'accent': 'American', 'description': 'expressive', 'age': 'young', 'gender': 'female', 'use_case': 'conversational'}, description=None, preview_url='https://storage.googleapis.com/eleven-public-prod/premade/voices/cgSgspJ2msm6clMCkdW9/56a97bf8-b69b-448f-846c-c3a11683d45a.mp3', available_for_tiers=[], settings=None, sharing=None, high_quality_base_model_ids=['eleven_turbo_v2', 'eleven_multilingual_v2', 'eleven_turbo_v2_5'], safety_control=None, voice_verification=VoiceVerificationResponse(requires_verification=False, is_verified=False, verification_failures=[], verification_attempts_count=0, language=None, verification_attempts=None), owner_id=None, permission_on_resource=None, is_legacy=False, is_mixed=False), Voice(voice_id='cjVigY5qzO86Huf0OWal', name='Eric', samples=None, category='premade', fine_tuning=FineTuningResponse(is_allowed_to_fine_tune=True, state={'eleven_multilingual_v2': 'fine_tuned', 'eleven_turbo_v2_5': 'fine_tuned', 'eleven_turbo_v2': 'fine_tuned'}, verification_failures=[], verification_attempts_count=0, manual_verification_requested=False, language='en', progress={}, message={'eleven_multilingual_v2': '', 'eleven_turbo_v2_5': '', 'eleven_turbo_v2': ''}, dataset_duration_seconds=None, verification_attempts=None, slice_ids=None, manual_verification=None, finetuning_state=None), labels={'accent': 'American', 'description': 'friendly', 'age': 'middle-aged', 'gender': 'male', 'use_case': 'conversational'}, description=None, preview_url='https://storage.googleapis.com/eleven-public-prod/premade/voices/cjVigY5qzO86Huf0OWal/d098fda0-6456-4030-b3d8-63aa048c9070.mp3', available_for_tiers=[], settings=None, sharing=None, high_quality_base_model_ids=['eleven_turbo_v2', 'eleven_multilingual_v2', 'eleven_turbo_v2_5'], safety_control=None, voice_verification=VoiceVerificationResponse(requires_verification=False, is_verified=False, verification_failures=[], verification_attempts_count=0, language=None, verification_attempts=None), owner_id=None, permission_on_resource=None, is_legacy=False, is_mixed=False), Voice(voice_id='iP95p4xoKVk53GoZ742B', name='Chris', samples=None, category='premade', fine_tuning=FineTuningResponse(is_allowed_to_fine_tune=True, state={'eleven_turbo_v2': 'fine_tuned'}, verification_failures=[], verification_attempts_count=0, manual_verification_requested=False, language='en', progress={}, message={'eleven_turbo_v2': ''}, dataset_duration_seconds=None, verification_attempts=None, slice_ids=None, manual_verification=None, finetuning_state=None), labels={'accent': 'American', 'description': 'casual', 'age': 'middle-aged', 'gender': 'male', 'use_case': 'conversational'}, description=None, preview_url='https://storage.googleapis.com/eleven-public-prod/premade/voices/iP95p4xoKVk53GoZ742B/3f4bde72-cc48-40dd-829f-57fbf906f4d7.mp3', available_for_tiers=[], settings=None, sharing=None, high_quality_base_model_ids=['eleven_turbo_v2', 'eleven_multilingual_v2', 'eleven_turbo_v2_5'], safety_control=None, voice_verification=VoiceVerificationResponse(requires_verification=False, is_verified=False, verification_failures=[], verification_attempts_count=0, language=None, verification_attempts=None), owner_id=None, permission_on_resource=None, is_legacy=False, is_mixed=False), Voice(voice_id='nPczCjzI2devNBz1zQrb', name='Brian', samples=None, category='premade', fine_tuning=FineTuningResponse(is_allowed_to_fine_tune=True, state={'eleven_turbo_v2': 'fine_tuned'}, verification_failures=[], verification_attempts_count=0, manual_verification_requested=False, language='en', progress={}, message={'eleven_turbo_v2': ''}, dataset_duration_seconds=None, verification_attempts=None, slice_ids=None, manual_verification=None, finetuning_state=None), labels={'accent': 'American', 'description': 'deep', 'age': 'middle-aged', 'gender': 'male', 'use_case': 'narration'}, description=None, preview_url='https://storage.googleapis.com/eleven-public-prod/premade/voices/nPczCjzI2devNBz1zQrb/2dd3e72c-4fd3-42f1-93ea-abc5d4e5aa1d.mp3', available_for_tiers=[], settings=None, sharing=None, high_quality_base_model_ids=['eleven_turbo_v2', 'eleven_multilingual_v2', 'eleven_turbo_v2_5'], safety_control=None, voice_verification=VoiceVerificationResponse(requires_verification=False, is_verified=False, verification_failures=[], verification_attempts_count=0, language=None, verification_attempts=None), owner_id=None, permission_on_resource=None, is_legacy=False, is_mixed=False), Voice(voice_id='onwK4e9ZLuTAKqWW03F9', name='Daniel', samples=None, category='premade', fine_tuning=FineTuningResponse(is_allowed_to_fine_tune=True, state={'eleven_turbo_v2': 'fine_tuned'}, verification_failures=[], verification_attempts_count=0, manual_verification_requested=False, language='en', progress={}, message={'eleven_turbo_v2': ''}, dataset_duration_seconds=None, verification_attempts=None, slice_ids=None, manual_verification=None, finetuning_state=None), labels={'accent': 'British', 'description': 'authoritative', 'age': 'middle-aged', 'gender': 'male', 'use_case': 'news'}, description=None, preview_url='https://storage.googleapis.com/eleven-public-prod/premade/voices/onwK4e9ZLuTAKqWW03F9/7eee0236-1a72-4b86-b303-5dcadc007ba9.mp3', available_for_tiers=[], settings=None, sharing=None, high_quality_base_model_ids=['eleven_multilingual_v1', 'eleven_turbo_v2', 'eleven_multilingual_v2', 'eleven_turbo_v2_5'], safety_control=None, voice_verification=VoiceVerificationResponse(requires_verification=False, is_verified=False, verification_failures=[], verification_attempts_count=0, language=None, verification_attempts=None), owner_id=None, permission_on_resource=None, is_legacy=False, is_mixed=False), Voice(voice_id='pFZP5JQG7iQjIQuC4Bku', name='Lily', samples=None, category='premade', fine_tuning=FineTuningResponse(is_allowed_to_fine_tune=True, state={'eleven_turbo_v2': 'fine_tuned'}, verification_failures=[], verification_attempts_count=0, manual_verification_requested=False, language='en', progress={}, message={'eleven_turbo_v2': ''}, dataset_duration_seconds=None, verification_attempts=None, slice_ids=None, manual_verification=None, finetuning_state=None), labels={'accent': 'British', 'description': 'warm', 'age': 'middle-aged', 'gender': 'female', 'use_case': 'narration'}, description=None, preview_url='https://storage.googleapis.com/eleven-public-prod/premade/voices/pFZP5JQG7iQjIQuC4Bku/89b68b35-b3dd-4348-a84a-a3c13a3c2b30.mp3', available_for_tiers=[], settings=None, sharing=None, high_quality_base_model_ids=['eleven_turbo_v2', 'eleven_multilingual_v2', 'eleven_turbo_v2_5'], safety_control=None, voice_verification=VoiceVerificationResponse(requires_verification=False, is_verified=False, verification_failures=[], verification_attempts_count=0, language=None, verification_attempts=None), owner_id=None, permission_on_resource=None, is_legacy=False, is_mixed=False), Voice(voice_id='pqHfZKP75CvOlQylNhV4', name='Bill', samples=None, category='premade', fine_tuning=FineTuningResponse(is_allowed_to_fine_tune=True, state={'eleven_turbo_v2': 'fine_tuned'}, verification_failures=[], verification_attempts_count=0, manual_verification_requested=False, language='en', progress={}, message={'eleven_turbo_v2': ''}, dataset_duration_seconds=None, verification_attempts=None, slice_ids=None, manual_verification=None, finetuning_state=None), labels={'accent': 'American', 'description': 'trustworthy', 'age': 'old', 'gender': 'male', 'use_case': 'narration'}, description=None, preview_url='https://storage.googleapis.com/eleven-public-prod/premade/voices/pqHfZKP75CvOlQylNhV4/d782b3ff-84ba-4029-848c-acf01285524d.mp3', available_for_tiers=[], settings=None, sharing=None, high_quality_base_model_ids=['eleven_turbo_v2', 'eleven_multilingual_v2', 'eleven_turbo_v2_5'], safety_control=None, voice_verification=VoiceVerificationResponse(requires_verification=False, is_verified=False, verification_failures=[], verification_attempts_count=0, language=None, verification_attempts=None), owner_id=None, permission_on_resource=None, is_legacy=False, is_mixed=False)]\n"
          ]
        }
      ]
    },
    {
      "cell_type": "code",
      "source": [
        "from elevenlabs import Voice, VoiceSettings, play\n",
        "from elevenlabs.client import ElevenLabs\n",
        "\n",
        "client = ElevenLabs(\n",
        "  api_key=\"sk_eb32544037c475f5b32009b0885eb7fdf8f662210f9a7e73\", # Defaults to ELEVEN_API_KEY\n",
        ")\n",
        "\n",
        "audio = client.generate(\n",
        "    text=\"Hello! My name is Bella.\",\n",
        "    voice=Voice(\n",
        "        voice_id='EXAVITQu4vr4xnSDxMaL',\n",
        "        settings=VoiceSettings(stability=0.71, similarity_boost=0.5, style=0.0, use_speaker_boost=True)\n",
        "    )\n",
        ")\n",
        "\n",
        "play(audio)"
      ],
      "metadata": {
        "id": "CsgozgtYDRcv"
      },
      "execution_count": null,
      "outputs": []
    },
    {
      "cell_type": "code",
      "source": [
        "from elevenlabs import Voice, VoiceSettings\n",
        "from elevenlabs.client import ElevenLabs\n",
        "import os\n",
        "\n",
        "client = ElevenLabs(\n",
        "    api_key=\"sk_eb32544037c475f5b32009b0885eb7fdf8f662210f9a7e73\",  # Replace with your API key\n",
        ")\n",
        "\n",
        "# Generate audio\n",
        "audio_generator = client.generate(\n",
        "    text=\"Hello! My name is Bella.\",\n",
        "    voice=Voice(\n",
        "        voice_id='EXAVITQu4vr4xnSDxMaL',\n",
        "        settings=VoiceSettings(stability=0.71, similarity_boost=0.5, style=0.0, use_speaker_boost=True)\n",
        "    )\n",
        ")\n",
        "\n",
        "# Collect audio data from the generator\n",
        "audio_bytes = b''.join(audio_generator)\n",
        "\n",
        "# Save the audio to a file\n",
        "output_file_path = 'output.mp3'\n",
        "with open(output_file_path, 'wb') as file:\n",
        "    file.write(audio_bytes)\n",
        "\n",
        "print(f\"Audio file saved as {output_file_path}\")\n",
        "\n",
        "# Check if the file exists and is not empty\n",
        "if os.path.exists(output_file_path) and os.path.getsize(output_file_path) > 0:\n",
        "    print(f\"The audio file '{output_file_path}' is successfully saved and should be playable.\")\n",
        "else:\n",
        "    print(f\"Error: The audio file '{output_file_path}' is either not saved or is empty.\")\n"
      ],
      "metadata": {
        "colab": {
          "base_uri": "https://localhost:8080/"
        },
        "id": "1k1WN694EVWv",
        "outputId": "5737e796-1b35-4296-b880-6ccab6534e15"
      },
      "execution_count": null,
      "outputs": [
        {
          "output_type": "stream",
          "name": "stdout",
          "text": [
            "Audio file saved as output.mp3\n",
            "The audio file 'output.mp3' is successfully saved and should be playable.\n"
          ]
        }
      ]
    },
    {
      "cell_type": "code",
      "source": [
        "pip install simpleaudio\n"
      ],
      "metadata": {
        "id": "LFAGbQneE91Q",
        "colab": {
          "base_uri": "https://localhost:8080/"
        },
        "outputId": "76f642d9-2fcf-4305-8fa5-fcf4e92623a9"
      },
      "execution_count": null,
      "outputs": [
        {
          "output_type": "stream",
          "name": "stdout",
          "text": [
            "Collecting simpleaudio\n",
            "  Downloading simpleaudio-1.0.4.tar.gz (2.0 MB)\n",
            "\u001b[?25l     \u001b[90m━━━━━━━━━━━━━━━━━━━━━━━━━━━━━━━━━━━━━━━━\u001b[0m \u001b[32m0.0/2.0 MB\u001b[0m \u001b[31m?\u001b[0m eta \u001b[36m-:--:--\u001b[0m\r\u001b[2K     \u001b[91m━━━━━━━━━\u001b[0m\u001b[91m╸\u001b[0m\u001b[90m━━━━━━━━━━━━━━━━━━━━━━━━━━━━━━\u001b[0m \u001b[32m0.5/2.0 MB\u001b[0m \u001b[31m16.4 MB/s\u001b[0m eta \u001b[36m0:00:01\u001b[0m\r\u001b[2K     \u001b[90m━━━━━━━━━━━━━━━━━━━━━━━━━━━━━━━━━━━━━━━━\u001b[0m \u001b[32m2.0/2.0 MB\u001b[0m \u001b[31m29.8 MB/s\u001b[0m eta \u001b[36m0:00:00\u001b[0m\n",
            "\u001b[?25h  Preparing metadata (setup.py) ... \u001b[?25l\u001b[?25hdone\n",
            "Building wheels for collected packages: simpleaudio\n",
            "  Building wheel for simpleaudio (setup.py) ... \u001b[?25l\u001b[?25hdone\n",
            "  Created wheel for simpleaudio: filename=simpleaudio-1.0.4-cp310-cp310-linux_x86_64.whl size=2054403 sha256=30a3d3420058c523543650db963202b3385a90bc229b707d6a9f99fbb7e39eea\n",
            "  Stored in directory: /root/.cache/pip/wheels/10/70/ed/8c41675109565c2c65c3ac40d20859fc9d3f93a8efbb11d1c7\n",
            "Successfully built simpleaudio\n",
            "Installing collected packages: simpleaudio\n",
            "Successfully installed simpleaudio-1.0.4\n"
          ]
        }
      ]
    },
    {
      "cell_type": "code",
      "source": [
        "# from elevenlabs import VoiceSettings\n",
        "# from elevenlabs.client import ElevenLabs\n",
        "\n",
        "# client = ElevenLabs(\n",
        "#     api_key=\"sk_eb32544037c475f5b32009b0885eb7fdf8f662210f9a7e73\",\n",
        "# )\n",
        "# client.text_to_speech.convert(\n",
        "#     voice_id=\"pMsXgVXv3BLzUgSXRplE\",\n",
        "#     optimize_streaming_latency=\"0\",\n",
        "#     output_format=\"mp3_22050_32\",\n",
        "#     text=\"It sure does, Jackie… My mama always said: “In Carolina, the air's so thick you can wear it!”\",\n",
        "#     voice_settings=VoiceSettings(\n",
        "#         stability=0.1,\n",
        "#         similarity_boost=0.3,\n",
        "#         style=0.2,\n",
        "#     ),\n",
        "# )\n",
        "!pip install pydub\n",
        "!apt-get install ffmpeg\n"
      ],
      "metadata": {
        "id": "0AK4lVNfIkCp",
        "colab": {
          "base_uri": "https://localhost:8080/"
        },
        "outputId": "5ac81908-71c6-4263-def3-e6fc0202d97b"
      },
      "execution_count": null,
      "outputs": [
        {
          "output_type": "stream",
          "name": "stdout",
          "text": [
            "Collecting pydub\n",
            "  Downloading pydub-0.25.1-py2.py3-none-any.whl.metadata (1.4 kB)\n",
            "Downloading pydub-0.25.1-py2.py3-none-any.whl (32 kB)\n",
            "Installing collected packages: pydub\n",
            "Successfully installed pydub-0.25.1\n",
            "Reading package lists... Done\n",
            "Building dependency tree... Done\n",
            "Reading state information... Done\n",
            "ffmpeg is already the newest version (7:4.4.2-0ubuntu0.22.04.1).\n",
            "0 upgraded, 0 newly installed, 0 to remove and 49 not upgraded.\n"
          ]
        }
      ]
    },
    {
      "cell_type": "code",
      "source": [
        "from elevenlabs import VoiceSettings\n",
        "from elevenlabs.client import ElevenLabs\n",
        "from IPython.display import Audio\n",
        "\n",
        "# Initialize the ElevenLabs client with your API key\n",
        "client = ElevenLabs(\n",
        "    api_key=\"sk_eb32544037c475f5b32009b0885eb7fdf8f662210f9a7e73\",  # Replace with your secure API key\n",
        ")\n",
        "\n",
        "# Define the voice settings\n",
        "voice_settings = VoiceSettings(\n",
        "    stability=0.1,\n",
        "    similarity_boost=0.3,\n",
        "    style=0.2,\n",
        ")\n",
        "\n",
        "# Perform the text-to-speech conversion and handle the output\n",
        "audio_generator = client.text_to_speech.convert(\n",
        "    voice_id=\"XrExE9yKIg1WjnnlVkGX\",\n",
        "\n",
        "    optimize_streaming_latency=\"0\",\n",
        "    output_format=\"mp3_22050_32\",\n",
        "    text=\"زندگی ایک خواب کی مانند ہے۔یہاں ہر لمحہ ایک نیا تجربہ \",\n",
        "    voice_settings=voice_settings,\n",
        ")\n",
        "\n",
        "# Save the audio output to a file\n",
        "file_name = \"outpu.mp3\"\n",
        "with open(file_name, \"wb\") as f:\n",
        "    for chunk in audio_generator:\n",
        "        f.write(chunk)\n",
        "\n",
        "print(\"Audio saved successfully as output.mp3\")\n",
        "\n",
        "# Play the audio file using IPython's Audio display\n",
        "Audio(file_name)\n"
      ],
      "metadata": {
        "colab": {
          "base_uri": "https://localhost:8080/",
          "height": 93
        },
        "id": "tE5F5dRPC6iN",
        "outputId": "5291bcf1-fd75-4a3c-d61b-ec9c11593adf"
      },
      "execution_count": null,
      "outputs": [
        {
          "output_type": "stream",
          "name": "stdout",
          "text": [
            "Audio saved successfully as output.mp3\n"
          ]
        },
        {
          "output_type": "execute_result",
          "data": {
            "text/plain": [
              "<IPython.lib.display.Audio object>"
            ],
            "text/html": [
              "\n",
              "                <audio  controls=\"controls\" >\n",
              "                    <source src=\"data:audio/mpeg;base64,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\" type=\"audio/mpeg\" />\n",
              "                    Your browser does not support the audio element.\n",
              "                </audio>\n",
              "              "
            ]
          },
          "metadata": {},
          "execution_count": 17
        }
      ]
    },
    {
      "cell_type": "code",
      "source": [
        "pip install pytesseract pdf2image pillow\n"
      ],
      "metadata": {
        "colab": {
          "base_uri": "https://localhost:8080/"
        },
        "id": "kUHQBUFNe6CE",
        "outputId": "d9aeef33-32a7-4169-a917-cb7bbd177620"
      },
      "execution_count": null,
      "outputs": [
        {
          "output_type": "stream",
          "name": "stdout",
          "text": [
            "Requirement already satisfied: pytesseract in /usr/local/lib/python3.10/dist-packages (0.3.13)\n",
            "Requirement already satisfied: pdf2image in /usr/local/lib/python3.10/dist-packages (1.17.0)\n",
            "Requirement already satisfied: pillow in /usr/local/lib/python3.10/dist-packages (9.4.0)\n",
            "Requirement already satisfied: packaging>=21.3 in /usr/local/lib/python3.10/dist-packages (from pytesseract) (24.1)\n"
          ]
        }
      ]
    },
    {
      "cell_type": "code",
      "source": [
        "!apt-get install -y poppler-utils\n"
      ],
      "metadata": {
        "colab": {
          "base_uri": "https://localhost:8080/"
        },
        "id": "YVG_4eoDf2R5",
        "outputId": "2085b3d4-37aa-49db-dc06-b7179bd4d334"
      },
      "execution_count": null,
      "outputs": [
        {
          "output_type": "stream",
          "name": "stdout",
          "text": [
            "Reading package lists... Done\n",
            "Building dependency tree... Done\n",
            "Reading state information... Done\n",
            "poppler-utils is already the newest version (22.02.0-2ubuntu0.5).\n",
            "0 upgraded, 0 newly installed, 0 to remove and 49 not upgraded.\n"
          ]
        }
      ]
    },
    {
      "cell_type": "code",
      "source": [
        "!apt-get install -y tesseract-ocr\n"
      ],
      "metadata": {
        "colab": {
          "base_uri": "https://localhost:8080/"
        },
        "id": "mxnhdpuUgHcO",
        "outputId": "6059bb78-a2e0-4eec-dd71-4bd767a94238"
      },
      "execution_count": null,
      "outputs": [
        {
          "output_type": "stream",
          "name": "stdout",
          "text": [
            "Reading package lists... Done\n",
            "Building dependency tree... Done\n",
            "Reading state information... Done\n",
            "tesseract-ocr is already the newest version (4.1.1-2.1build1).\n",
            "0 upgraded, 0 newly installed, 0 to remove and 49 not upgraded.\n"
          ]
        }
      ]
    },
    {
      "cell_type": "code",
      "source": [
        "\n",
        "!sudo apt-get install tesseract-ocr-urd\n",
        "from PIL import Image\n",
        "import pytesseract\n",
        "import cv2\n",
        "import numpy as np\n",
        "\n",
        "def preprocess_image(image):\n",
        "    # Convert to grayscale\n",
        "    gray = cv2.cvtColor(image, cv2.COLOR_BGR2GRAY)\n",
        "    # Apply thresholding to get a binary image\n",
        "    _, thresh = cv2.threshold(gray, 150, 255, cv2.THRESH_BINARY)\n",
        "    return thresh\n",
        "\n",
        "def extract_text_from_image(image_path):\n",
        "    # Open image file\n",
        "    image = Image.open(image_path)\n",
        "    # Convert PIL image to OpenCV format\n",
        "    open_cv_image = np.array(image)\n",
        "    # Preprocess image\n",
        "    processed_image = preprocess_image(open_cv_image)\n",
        "    # Extract text from image using Urdu language settings\n",
        "    text = pytesseract.image_to_string(processed_image, lang='urd', config='--psm 6')\n",
        "    return text\n",
        "\n",
        "# Example usage:\n",
        "image_path = '/content/voice.png'  # Replace with your image file path\n",
        "\n",
        "try:\n",
        "    # Extract text from image\n",
        "    urdu_text = extract_text_from_image(image_path)\n",
        "    print(\"Text from Image:\")\n",
        "    print(urdu_text)\n",
        "except Exception as e:\n",
        "    print(f\"An error occurred while extracting text from image: {e}\")\n"
      ],
      "metadata": {
        "colab": {
          "base_uri": "https://localhost:8080/"
        },
        "id": "MxExtlQzJS-p",
        "outputId": "04926311-df20-4565-de43-33fc4e7de6fe"
      },
      "execution_count": null,
      "outputs": [
        {
          "output_type": "stream",
          "name": "stdout",
          "text": [
            "Reading package lists... Done\n",
            "Building dependency tree... Done\n",
            "Reading state information... Done\n",
            "tesseract-ocr-urd is already the newest version (1:4.00~git30-7274cfa-1.1).\n",
            "0 upgraded, 0 newly installed, 0 to remove and 49 not upgraded.\n",
            "Text from Image:\n",
            "پروشیل ٹ کا گنوان:\n",
            "\n",
            "کبیوٹروژن اور ٹلا نٹ تصاوی رکا استعما لکرتے ہوئے ج پر زراعت۷\n",
            "\n",
            "پروجیل ٹک تعارف:\n",
            "\n",
            "یہ پروجیلٹ, ۵6 اور وو ر سی آف یرھچ فصل آبار کے تعاون سے حدید صمح نوجی\n",
            "فبات اور میٹیلائٹ تصاوی رگا استعما لکرتے ہوے, زراعت کے گے فصلو ںکی تکرا یکو بہتر\n",
            "نان ےک یکوش کرت ہے۔ اس منصوہ ےکا مقصد فصلو ںکی صحتہ پا یکی ح٠‏ اور ٹ یکی\n",
            "عال تکی گرا یکر ک ےکسانو ںکو ورست معلومات فراہ مکرنا ہے جاک وو بہت فی ےکر سکیں۔\n",
            "\f\n"
          ]
        }
      ]
    },
    {
      "cell_type": "code",
      "source": [
        "pip uninstall pymupdf"
      ],
      "metadata": {
        "colab": {
          "base_uri": "https://localhost:8080/"
        },
        "id": "MCj5f6EEjdQ6",
        "outputId": "221616c8-db61-4811-cc94-2efe811ec53f"
      },
      "execution_count": null,
      "outputs": [
        {
          "output_type": "stream",
          "name": "stdout",
          "text": [
            "Found existing installation: PyMuPDF 1.24.9\n",
            "Uninstalling PyMuPDF-1.24.9:\n",
            "  Would remove:\n",
            "    /usr/local/bin/pymupdf\n",
            "    /usr/local/lib/python3.10/dist-packages/PyMuPDF-1.24.9.dist-info/*\n",
            "    /usr/local/lib/python3.10/dist-packages/fitz/*\n",
            "    /usr/local/lib/python3.10/dist-packages/pymupdf/*\n",
            "  Would not remove (might be manually added):\n",
            "    /usr/local/lib/python3.10/dist-packages/fitz/.DS_Store\n",
            "    /usr/local/lib/python3.10/dist-packages/fitz/frontend.py\n",
            "    /usr/local/lib/python3.10/dist-packages/fitz/tools/__init__.py\n",
            "    /usr/local/lib/python3.10/dist-packages/fitz/tools/builder.py\n",
            "    /usr/local/lib/python3.10/dist-packages/fitz/tools/commandline.py\n",
            "    /usr/local/lib/python3.10/dist-packages/fitz/tools/graphutils.py\n",
            "    /usr/local/lib/python3.10/dist-packages/fitz/tools/setup_project.py\n",
            "    /usr/local/lib/python3.10/dist-packages/pymupdf/libmupdf.so.24.8\n",
            "    /usr/local/lib/python3.10/dist-packages/pymupdf/libmupdfcpp.so.24.8\n",
            "    /usr/local/lib/python3.10/dist-packages/pymupdf/mupdf-devel/include/mupdf/fitz.h\n",
            "    /usr/local/lib/python3.10/dist-packages/pymupdf/mupdf-devel/include/mupdf/fitz/archive.h\n",
            "    /usr/local/lib/python3.10/dist-packages/pymupdf/mupdf-devel/include/mupdf/fitz/band-writer.h\n",
            "    /usr/local/lib/python3.10/dist-packages/pymupdf/mupdf-devel/include/mupdf/fitz/bidi.h\n",
            "    /usr/local/lib/python3.10/dist-packages/pymupdf/mupdf-devel/include/mupdf/fitz/bitmap.h\n",
            "    /usr/local/lib/python3.10/dist-packages/pymupdf/mupdf-devel/include/mupdf/fitz/buffer.h\n",
            "    /usr/local/lib/python3.10/dist-packages/pymupdf/mupdf-devel/include/mupdf/fitz/color.h\n",
            "    /usr/local/lib/python3.10/dist-packages/pymupdf/mupdf-devel/include/mupdf/fitz/compress.h\n",
            "    /usr/local/lib/python3.10/dist-packages/pymupdf/mupdf-devel/include/mupdf/fitz/compressed-buffer.h\n",
            "    /usr/local/lib/python3.10/dist-packages/pymupdf/mupdf-devel/include/mupdf/fitz/config.h\n",
            "    /usr/local/lib/python3.10/dist-packages/pymupdf/mupdf-devel/include/mupdf/fitz/context.h\n",
            "    /usr/local/lib/python3.10/dist-packages/pymupdf/mupdf-devel/include/mupdf/fitz/crypt.h\n",
            "    /usr/local/lib/python3.10/dist-packages/pymupdf/mupdf-devel/include/mupdf/fitz/device.h\n",
            "    /usr/local/lib/python3.10/dist-packages/pymupdf/mupdf-devel/include/mupdf/fitz/display-list.h\n",
            "    /usr/local/lib/python3.10/dist-packages/pymupdf/mupdf-devel/include/mupdf/fitz/document.h\n",
            "    /usr/local/lib/python3.10/dist-packages/pymupdf/mupdf-devel/include/mupdf/fitz/export.h\n",
            "    /usr/local/lib/python3.10/dist-packages/pymupdf/mupdf-devel/include/mupdf/fitz/filter.h\n",
            "    /usr/local/lib/python3.10/dist-packages/pymupdf/mupdf-devel/include/mupdf/fitz/font.h\n",
            "    /usr/local/lib/python3.10/dist-packages/pymupdf/mupdf-devel/include/mupdf/fitz/geometry.h\n",
            "    /usr/local/lib/python3.10/dist-packages/pymupdf/mupdf-devel/include/mupdf/fitz/getopt.h\n",
            "    /usr/local/lib/python3.10/dist-packages/pymupdf/mupdf-devel/include/mupdf/fitz/glyph-cache.h\n",
            "    /usr/local/lib/python3.10/dist-packages/pymupdf/mupdf-devel/include/mupdf/fitz/glyph.h\n",
            "    /usr/local/lib/python3.10/dist-packages/pymupdf/mupdf-devel/include/mupdf/fitz/hash.h\n",
            "    /usr/local/lib/python3.10/dist-packages/pymupdf/mupdf-devel/include/mupdf/fitz/heap-imp.h\n",
            "    /usr/local/lib/python3.10/dist-packages/pymupdf/mupdf-devel/include/mupdf/fitz/heap.h\n",
            "    /usr/local/lib/python3.10/dist-packages/pymupdf/mupdf-devel/include/mupdf/fitz/image.h\n",
            "    /usr/local/lib/python3.10/dist-packages/pymupdf/mupdf-devel/include/mupdf/fitz/link.h\n",
            "    /usr/local/lib/python3.10/dist-packages/pymupdf/mupdf-devel/include/mupdf/fitz/log.h\n",
            "    /usr/local/lib/python3.10/dist-packages/pymupdf/mupdf-devel/include/mupdf/fitz/outline.h\n",
            "    /usr/local/lib/python3.10/dist-packages/pymupdf/mupdf-devel/include/mupdf/fitz/output-svg.h\n",
            "    /usr/local/lib/python3.10/dist-packages/pymupdf/mupdf-devel/include/mupdf/fitz/output.h\n",
            "    /usr/local/lib/python3.10/dist-packages/pymupdf/mupdf-devel/include/mupdf/fitz/path.h\n",
            "    /usr/local/lib/python3.10/dist-packages/pymupdf/mupdf-devel/include/mupdf/fitz/pixmap.h\n",
            "    /usr/local/lib/python3.10/dist-packages/pymupdf/mupdf-devel/include/mupdf/fitz/pool.h\n",
            "    /usr/local/lib/python3.10/dist-packages/pymupdf/mupdf-devel/include/mupdf/fitz/separation.h\n",
            "    /usr/local/lib/python3.10/dist-packages/pymupdf/mupdf-devel/include/mupdf/fitz/shade.h\n",
            "    /usr/local/lib/python3.10/dist-packages/pymupdf/mupdf-devel/include/mupdf/fitz/store.h\n",
            "    /usr/local/lib/python3.10/dist-packages/pymupdf/mupdf-devel/include/mupdf/fitz/story-writer.h\n",
            "    /usr/local/lib/python3.10/dist-packages/pymupdf/mupdf-devel/include/mupdf/fitz/story.h\n",
            "    /usr/local/lib/python3.10/dist-packages/pymupdf/mupdf-devel/include/mupdf/fitz/stream.h\n",
            "    /usr/local/lib/python3.10/dist-packages/pymupdf/mupdf-devel/include/mupdf/fitz/string-util.h\n",
            "    /usr/local/lib/python3.10/dist-packages/pymupdf/mupdf-devel/include/mupdf/fitz/structured-text.h\n",
            "    /usr/local/lib/python3.10/dist-packages/pymupdf/mupdf-devel/include/mupdf/fitz/system.h\n",
            "    /usr/local/lib/python3.10/dist-packages/pymupdf/mupdf-devel/include/mupdf/fitz/text.h\n",
            "    /usr/local/lib/python3.10/dist-packages/pymupdf/mupdf-devel/include/mupdf/fitz/track-usage.h\n",
            "    /usr/local/lib/python3.10/dist-packages/pymupdf/mupdf-devel/include/mupdf/fitz/transition.h\n",
            "    /usr/local/lib/python3.10/dist-packages/pymupdf/mupdf-devel/include/mupdf/fitz/tree.h\n",
            "    /usr/local/lib/python3.10/dist-packages/pymupdf/mupdf-devel/include/mupdf/fitz/types.h\n",
            "    /usr/local/lib/python3.10/dist-packages/pymupdf/mupdf-devel/include/mupdf/fitz/util.h\n",
            "    /usr/local/lib/python3.10/dist-packages/pymupdf/mupdf-devel/include/mupdf/fitz/version.h\n",
            "    /usr/local/lib/python3.10/dist-packages/pymupdf/mupdf-devel/include/mupdf/fitz/write-pixmap.h\n",
            "    /usr/local/lib/python3.10/dist-packages/pymupdf/mupdf-devel/include/mupdf/fitz/writer.h\n",
            "    /usr/local/lib/python3.10/dist-packages/pymupdf/mupdf-devel/include/mupdf/fitz/xml.h\n",
            "    /usr/local/lib/python3.10/dist-packages/pymupdf/mupdf-devel/include/mupdf/helpers/mu-office-lib.h\n",
            "    /usr/local/lib/python3.10/dist-packages/pymupdf/mupdf-devel/include/mupdf/helpers/mu-threads.h\n",
            "    /usr/local/lib/python3.10/dist-packages/pymupdf/mupdf-devel/include/mupdf/helpers/pkcs7-openssl.h\n",
            "    /usr/local/lib/python3.10/dist-packages/pymupdf/mupdf-devel/include/mupdf/html.h\n",
            "    /usr/local/lib/python3.10/dist-packages/pymupdf/mupdf-devel/include/mupdf/memento.h\n",
            "    /usr/local/lib/python3.10/dist-packages/pymupdf/mupdf-devel/include/mupdf/pdf.h\n",
            "    /usr/local/lib/python3.10/dist-packages/pymupdf/mupdf-devel/include/mupdf/pdf/annot.h\n",
            "    /usr/local/lib/python3.10/dist-packages/pymupdf/mupdf-devel/include/mupdf/pdf/clean.h\n",
            "    /usr/local/lib/python3.10/dist-packages/pymupdf/mupdf-devel/include/mupdf/pdf/cmap.h\n",
            "    /usr/local/lib/python3.10/dist-packages/pymupdf/mupdf-devel/include/mupdf/pdf/crypt.h\n",
            "    /usr/local/lib/python3.10/dist-packages/pymupdf/mupdf-devel/include/mupdf/pdf/document.h\n",
            "    /usr/local/lib/python3.10/dist-packages/pymupdf/mupdf-devel/include/mupdf/pdf/event.h\n",
            "    /usr/local/lib/python3.10/dist-packages/pymupdf/mupdf-devel/include/mupdf/pdf/font.h\n",
            "    /usr/local/lib/python3.10/dist-packages/pymupdf/mupdf-devel/include/mupdf/pdf/form.h\n",
            "    /usr/local/lib/python3.10/dist-packages/pymupdf/mupdf-devel/include/mupdf/pdf/image-rewriter.h\n",
            "    /usr/local/lib/python3.10/dist-packages/pymupdf/mupdf-devel/include/mupdf/pdf/interpret.h\n",
            "    /usr/local/lib/python3.10/dist-packages/pymupdf/mupdf-devel/include/mupdf/pdf/javascript.h\n",
            "    /usr/local/lib/python3.10/dist-packages/pymupdf/mupdf-devel/include/mupdf/pdf/name-table.h\n",
            "    /usr/local/lib/python3.10/dist-packages/pymupdf/mupdf-devel/include/mupdf/pdf/object.h\n",
            "    /usr/local/lib/python3.10/dist-packages/pymupdf/mupdf-devel/include/mupdf/pdf/page.h\n",
            "    /usr/local/lib/python3.10/dist-packages/pymupdf/mupdf-devel/include/mupdf/pdf/parse.h\n",
            "    /usr/local/lib/python3.10/dist-packages/pymupdf/mupdf-devel/include/mupdf/pdf/resource.h\n",
            "    /usr/local/lib/python3.10/dist-packages/pymupdf/mupdf-devel/include/mupdf/pdf/xref.h\n",
            "    /usr/local/lib/python3.10/dist-packages/pymupdf/mupdf-devel/include/mupdf/ucdn.h\n",
            "Proceed (Y/n)? y\n",
            "  Successfully uninstalled PyMuPDF-1.24.9\n"
          ]
        }
      ]
    },
    {
      "cell_type": "code",
      "source": [
        "!pip install pymupdf\n",
        "!pip install fitz"
      ],
      "metadata": {
        "colab": {
          "base_uri": "https://localhost:8080/"
        },
        "id": "tvWbvidmn4EG",
        "outputId": "def0421e-568a-4791-db97-4c462efb9d0f"
      },
      "execution_count": null,
      "outputs": [
        {
          "output_type": "stream",
          "name": "stdout",
          "text": [
            "Collecting pymupdf\n",
            "  Using cached PyMuPDF-1.24.9-cp310-none-manylinux2014_x86_64.whl.metadata (3.4 kB)\n",
            "Requirement already satisfied: PyMuPDFb==1.24.9 in /usr/local/lib/python3.10/dist-packages (from pymupdf) (1.24.9)\n",
            "Using cached PyMuPDF-1.24.9-cp310-none-manylinux2014_x86_64.whl (3.5 MB)\n",
            "Installing collected packages: pymupdf\n",
            "Successfully installed pymupdf-1.24.9\n",
            "Requirement already satisfied: fitz in /usr/local/lib/python3.10/dist-packages (0.0.1.dev2)\n",
            "Requirement already satisfied: configobj in /usr/local/lib/python3.10/dist-packages (from fitz) (5.0.8)\n",
            "Requirement already satisfied: configparser in /usr/local/lib/python3.10/dist-packages (from fitz) (7.1.0)\n",
            "Requirement already satisfied: httplib2 in /usr/local/lib/python3.10/dist-packages (from fitz) (0.22.0)\n",
            "Requirement already satisfied: nibabel in /usr/local/lib/python3.10/dist-packages (from fitz) (5.0.1)\n",
            "Requirement already satisfied: nipype in /usr/local/lib/python3.10/dist-packages (from fitz) (1.8.6)\n",
            "Requirement already satisfied: numpy in /usr/local/lib/python3.10/dist-packages (from fitz) (1.26.4)\n",
            "Requirement already satisfied: pandas in /usr/local/lib/python3.10/dist-packages (from fitz) (2.1.4)\n",
            "Requirement already satisfied: pyxnat in /usr/local/lib/python3.10/dist-packages (from fitz) (1.6.2)\n",
            "Requirement already satisfied: scipy in /usr/local/lib/python3.10/dist-packages (from fitz) (1.13.1)\n",
            "Requirement already satisfied: six in /usr/local/lib/python3.10/dist-packages (from configobj->fitz) (1.16.0)\n",
            "Requirement already satisfied: pyparsing!=3.0.0,!=3.0.1,!=3.0.2,!=3.0.3,<4,>=2.4.2 in /usr/local/lib/python3.10/dist-packages (from httplib2->fitz) (3.1.4)\n",
            "Requirement already satisfied: packaging>=17 in /usr/local/lib/python3.10/dist-packages (from nibabel->fitz) (24.1)\n",
            "Requirement already satisfied: setuptools in /usr/local/lib/python3.10/dist-packages (from nibabel->fitz) (71.0.4)\n",
            "Requirement already satisfied: click>=6.6.0 in /usr/local/lib/python3.10/dist-packages (from nipype->fitz) (8.1.7)\n",
            "Requirement already satisfied: networkx>=2.0 in /usr/local/lib/python3.10/dist-packages (from nipype->fitz) (3.3)\n",
            "Requirement already satisfied: prov>=1.5.2 in /usr/local/lib/python3.10/dist-packages (from nipype->fitz) (2.0.1)\n",
            "Requirement already satisfied: pydot>=1.2.3 in /usr/local/lib/python3.10/dist-packages (from nipype->fitz) (1.4.2)\n",
            "Requirement already satisfied: python-dateutil>=2.2 in /usr/local/lib/python3.10/dist-packages (from nipype->fitz) (2.8.2)\n",
            "Requirement already satisfied: rdflib>=5.0.0 in /usr/local/lib/python3.10/dist-packages (from nipype->fitz) (6.3.2)\n",
            "Requirement already satisfied: simplejson>=3.8.0 in /usr/local/lib/python3.10/dist-packages (from nipype->fitz) (3.19.3)\n",
            "Requirement already satisfied: traits!=5.0,<6.4,>=4.6 in /usr/local/lib/python3.10/dist-packages (from nipype->fitz) (6.3.2)\n",
            "Requirement already satisfied: filelock>=3.0.0 in /usr/local/lib/python3.10/dist-packages (from nipype->fitz) (3.15.4)\n",
            "Requirement already satisfied: etelemetry>=0.2.0 in /usr/local/lib/python3.10/dist-packages (from nipype->fitz) (0.3.1)\n",
            "Requirement already satisfied: looseversion in /usr/local/lib/python3.10/dist-packages (from nipype->fitz) (1.3.0)\n",
            "Requirement already satisfied: pytz>=2020.1 in /usr/local/lib/python3.10/dist-packages (from pandas->fitz) (2024.1)\n",
            "Requirement already satisfied: tzdata>=2022.1 in /usr/local/lib/python3.10/dist-packages (from pandas->fitz) (2024.1)\n",
            "Requirement already satisfied: lxml>=4.3 in /usr/local/lib/python3.10/dist-packages (from pyxnat->fitz) (4.9.4)\n",
            "Requirement already satisfied: requests>=2.20 in /usr/local/lib/python3.10/dist-packages (from pyxnat->fitz) (2.32.3)\n",
            "Requirement already satisfied: pathlib>=1.0 in /usr/local/lib/python3.10/dist-packages (from pyxnat->fitz) (1.0.1)\n",
            "Requirement already satisfied: ci-info>=0.2 in /usr/local/lib/python3.10/dist-packages (from etelemetry>=0.2.0->nipype->fitz) (0.3.0)\n",
            "Requirement already satisfied: isodate<0.7.0,>=0.6.0 in /usr/local/lib/python3.10/dist-packages (from rdflib>=5.0.0->nipype->fitz) (0.6.1)\n",
            "Requirement already satisfied: charset-normalizer<4,>=2 in /usr/local/lib/python3.10/dist-packages (from requests>=2.20->pyxnat->fitz) (3.3.2)\n",
            "Requirement already satisfied: idna<4,>=2.5 in /usr/local/lib/python3.10/dist-packages (from requests>=2.20->pyxnat->fitz) (3.8)\n",
            "Requirement already satisfied: urllib3<3,>=1.21.1 in /usr/local/lib/python3.10/dist-packages (from requests>=2.20->pyxnat->fitz) (2.0.7)\n",
            "Requirement already satisfied: certifi>=2017.4.17 in /usr/local/lib/python3.10/dist-packages (from requests>=2.20->pyxnat->fitz) (2024.7.4)\n"
          ]
        }
      ]
    },
    {
      "cell_type": "code",
      "source": [
        "import fitz\n",
        "doc = fitz.open('/content/curry in hurry notes.pdf')\n",
        "text = \"\"\n",
        "for page in doc:\n",
        "   text+=page.get_text()\n",
        "print(text)"
      ],
      "metadata": {
        "colab": {
          "base_uri": "https://localhost:8080/"
        },
        "id": "uBtudXosjIiN",
        "outputId": "a99741e6-26b8-47d8-ff1a-ff58dfe41cf7"
      },
      "execution_count": null,
      "outputs": [
        {
          "output_type": "stream",
          "name": "stdout",
          "text": [
            "Curry in Hurry Notes: \n",
            " \n",
            "Sarasvathy’s talks about creating a pretend Indian restaurant called \"Curry in a Hurry.\"  \n",
            "She looks at two ways of doing it:  one way follows steps like a recipe, and the other is more \n",
            "flexible and creative.  \n",
            "The first way is based on traditional economic theories that say if we follow certain steps, we will \n",
            "definitely succeed.  \n",
            "Sarasvathy’s uses the first method in her example. She talks about Philip Kotler's ideas from a \n",
            "famous marketing book. Kotler says first, we need to think about who might want our food, and \n",
            "then choose who to sell to, and then figure out how to tell them about our food, and so on. It is like \n",
            "following a recipe for starting a business. \n",
            "1.  Analyze long-run opportunities in the market. \n",
            "2. Research and select target markets. \n",
            "3. Identify segmentation variables and segment the market. \n",
            "4. Develop profiles of resulting segments. \n",
            "5. Evaluate the attractiveness of each segment. \n",
            "6. Select the target segment(s). \n",
            "7. Identify possible positioning concepts for each target segment. \n",
            "8. Select, develop, and communicate the chosen positioning concept. \n",
            "9. Design marketing strategies. \n",
            "10. Plan marketing programs. \n",
            "11. Organize, implement, and control marketing effort. \n",
            " \n",
            "In marketing, there is a process called STP—segmentation, targeting, and positioning. Imagine a \n",
            "new Indian restaurant called 'Curry in a Hurry' in Pittsburgh, Pennsylvania.  \n",
            "To start, the entrepreneur considers all potential customers in the area. By looking at things like \n",
            "demographics, where people live, and how much they earn, she can figure out who might be \n",
            "interested. She might send out surveys or talk to people to find out more. Based on this, she decides \n",
            "to focus on wealthy families who eat out often. This helps her plan what food to serve, how to \n",
            "decorate, and when to open. She also studies other restaurants to predict how popular hers might \n",
            "be it talks about two ways to start a restaurant.  \n",
            "The first way is like starting from the big picture and narrowing down to specifics. For 'Curry in a \n",
            "Hurry,' it might mean going from the whole city to a wealthy neighborhood, and then to specific \n",
            "families. \n",
            " \n",
            "The second way is more creative. Instead of assuming there is already a market and spending lots \n",
            "of money, the entrepreneur starts small. For example, with only $20,000, she might convince \n",
            "someone to collaborate with her or do minimal research to get investors. Another way is to \n",
            "collaborate with existing restaurants or sell food at a counter. \n",
            " \n",
            "She could also try giving samples to people at offices. If they like it, she might start a lunch delivery \n",
            "service. Or, she might find out they like her personality more than the food and switch to something \n",
            "else, like motivational consulting  \n",
            "Starting from the same point, the entrepreneur could end up with different businesses depending \n",
            "on what happens. For example, whoever buys the food first becomes the first target customer. By \n",
            "listening to them and building more customers, she can figure out who likes her food. If it's \n",
            "working women, she might focus on them. She could even start a franchise called 'Women in a \n",
            "Hurry.' \n",
            " \n",
            "Or, if people are more interested in the idea of experiencing different cultures, she could offer \n",
            "catering, party planning, or cultural classes—maybe calling it 'Curry Favors' or 'School of Curry.' \n",
            " \n",
            "If they're interested in traveling, she could offer tours to India and the Far East—maybe calling it \n",
            "'Curryland Travels.' So, depending on what people like, she could end up with different kinds of \n",
            "businesses. \n",
            "When an entrepreneur uses effectuation to build a business, they can end up with many different \n",
            "kinds of businesses, even in different industries. This means the original idea doesn't have to lead \n",
            "to just one type of business—it can lead to several possibilities. Effectuation lets the entrepreneur \n",
            "adapt and change their goals over time, depending on what happens. It's not saying effectuation is \n",
            "better than other ways of thinking, just that it's a way some entrepreneurs think, especially in \n",
            "uncertain situations. \n",
            " \n",
            "In today's world, where things change quickly, it's important for managers to think like \n",
            "entrepreneurs. They need to be able to sense what's happening, act fast, and adapt to changes. To \n",
            "do this, they have to question old ideas and be flexible. This involves rethinking everything about \n",
            "the business—like strategies, organization, and culture. To do this well, people need to be good at \n",
            "adapting their thinking. There are models and surveys to help understand how good someone is at \n",
            "this kind of thinking \n",
            "\n"
          ]
        }
      ]
    },
    {
      "cell_type": "code",
      "source": [
        "pip install pytesseract pillow fitz\n"
      ],
      "metadata": {
        "colab": {
          "base_uri": "https://localhost:8080/"
        },
        "id": "sLwAynVOkvrC",
        "outputId": "65ea6479-ea0b-4227-b4df-3157dc621e1a"
      },
      "execution_count": null,
      "outputs": [
        {
          "output_type": "stream",
          "name": "stdout",
          "text": [
            "Requirement already satisfied: pytesseract in /usr/local/lib/python3.10/dist-packages (0.3.13)\n",
            "Requirement already satisfied: pillow in /usr/local/lib/python3.10/dist-packages (9.4.0)\n",
            "Requirement already satisfied: fitz in /usr/local/lib/python3.10/dist-packages (0.0.1.dev2)\n",
            "Requirement already satisfied: packaging>=21.3 in /usr/local/lib/python3.10/dist-packages (from pytesseract) (24.1)\n",
            "Requirement already satisfied: configobj in /usr/local/lib/python3.10/dist-packages (from fitz) (5.0.8)\n",
            "Requirement already satisfied: configparser in /usr/local/lib/python3.10/dist-packages (from fitz) (7.1.0)\n",
            "Requirement already satisfied: httplib2 in /usr/local/lib/python3.10/dist-packages (from fitz) (0.22.0)\n",
            "Requirement already satisfied: nibabel in /usr/local/lib/python3.10/dist-packages (from fitz) (5.0.1)\n",
            "Requirement already satisfied: nipype in /usr/local/lib/python3.10/dist-packages (from fitz) (1.8.6)\n",
            "Requirement already satisfied: numpy in /usr/local/lib/python3.10/dist-packages (from fitz) (1.26.4)\n",
            "Requirement already satisfied: pandas in /usr/local/lib/python3.10/dist-packages (from fitz) (2.1.4)\n",
            "Requirement already satisfied: pyxnat in /usr/local/lib/python3.10/dist-packages (from fitz) (1.6.2)\n",
            "Requirement already satisfied: scipy in /usr/local/lib/python3.10/dist-packages (from fitz) (1.13.1)\n",
            "Requirement already satisfied: six in /usr/local/lib/python3.10/dist-packages (from configobj->fitz) (1.16.0)\n",
            "Requirement already satisfied: pyparsing!=3.0.0,!=3.0.1,!=3.0.2,!=3.0.3,<4,>=2.4.2 in /usr/local/lib/python3.10/dist-packages (from httplib2->fitz) (3.1.4)\n",
            "Requirement already satisfied: setuptools in /usr/local/lib/python3.10/dist-packages (from nibabel->fitz) (71.0.4)\n",
            "Requirement already satisfied: click>=6.6.0 in /usr/local/lib/python3.10/dist-packages (from nipype->fitz) (8.1.7)\n",
            "Requirement already satisfied: networkx>=2.0 in /usr/local/lib/python3.10/dist-packages (from nipype->fitz) (3.3)\n",
            "Requirement already satisfied: prov>=1.5.2 in /usr/local/lib/python3.10/dist-packages (from nipype->fitz) (2.0.1)\n",
            "Requirement already satisfied: pydot>=1.2.3 in /usr/local/lib/python3.10/dist-packages (from nipype->fitz) (1.4.2)\n",
            "Requirement already satisfied: python-dateutil>=2.2 in /usr/local/lib/python3.10/dist-packages (from nipype->fitz) (2.8.2)\n",
            "Requirement already satisfied: rdflib>=5.0.0 in /usr/local/lib/python3.10/dist-packages (from nipype->fitz) (6.3.2)\n",
            "Requirement already satisfied: simplejson>=3.8.0 in /usr/local/lib/python3.10/dist-packages (from nipype->fitz) (3.19.3)\n",
            "Requirement already satisfied: traits!=5.0,<6.4,>=4.6 in /usr/local/lib/python3.10/dist-packages (from nipype->fitz) (6.3.2)\n",
            "Requirement already satisfied: filelock>=3.0.0 in /usr/local/lib/python3.10/dist-packages (from nipype->fitz) (3.15.4)\n",
            "Requirement already satisfied: etelemetry>=0.2.0 in /usr/local/lib/python3.10/dist-packages (from nipype->fitz) (0.3.1)\n",
            "Requirement already satisfied: looseversion in /usr/local/lib/python3.10/dist-packages (from nipype->fitz) (1.3.0)\n",
            "Requirement already satisfied: pytz>=2020.1 in /usr/local/lib/python3.10/dist-packages (from pandas->fitz) (2024.1)\n",
            "Requirement already satisfied: tzdata>=2022.1 in /usr/local/lib/python3.10/dist-packages (from pandas->fitz) (2024.1)\n",
            "Requirement already satisfied: lxml>=4.3 in /usr/local/lib/python3.10/dist-packages (from pyxnat->fitz) (4.9.4)\n",
            "Requirement already satisfied: requests>=2.20 in /usr/local/lib/python3.10/dist-packages (from pyxnat->fitz) (2.32.3)\n",
            "Requirement already satisfied: pathlib>=1.0 in /usr/local/lib/python3.10/dist-packages (from pyxnat->fitz) (1.0.1)\n",
            "Requirement already satisfied: ci-info>=0.2 in /usr/local/lib/python3.10/dist-packages (from etelemetry>=0.2.0->nipype->fitz) (0.3.0)\n",
            "Requirement already satisfied: isodate<0.7.0,>=0.6.0 in /usr/local/lib/python3.10/dist-packages (from rdflib>=5.0.0->nipype->fitz) (0.6.1)\n",
            "Requirement already satisfied: charset-normalizer<4,>=2 in /usr/local/lib/python3.10/dist-packages (from requests>=2.20->pyxnat->fitz) (3.3.2)\n",
            "Requirement already satisfied: idna<4,>=2.5 in /usr/local/lib/python3.10/dist-packages (from requests>=2.20->pyxnat->fitz) (3.8)\n",
            "Requirement already satisfied: urllib3<3,>=1.21.1 in /usr/local/lib/python3.10/dist-packages (from requests>=2.20->pyxnat->fitz) (2.0.7)\n",
            "Requirement already satisfied: certifi>=2017.4.17 in /usr/local/lib/python3.10/dist-packages (from requests>=2.20->pyxnat->fitz) (2024.7.4)\n"
          ]
        }
      ]
    },
    {
      "cell_type": "code",
      "source": [
        "from PIL import Image\n",
        "import pytesseract\n",
        "import fitz  # PyMuPDF\n",
        "\n",
        "def extract_text_from_image(image_path):\n",
        "    # Open the image using Pillow\n",
        "    image = Image.open(image_path)\n",
        "    # Use pytesseract to extract text\n",
        "    text = pytesseract.image_to_string(image)\n",
        "    return text\n",
        "\n",
        "def extract_text_from_pdf(pdf_path):\n",
        "    # Open the PDF using fitz\n",
        "    doc = fitz.open(pdf_path)\n",
        "    text = \"\"\n",
        "    for page in doc:\n",
        "        text += page.get_text()\n",
        "    return text\n",
        "\n",
        "# Paths to your files\n",
        "image_path = '/content/english.png'\n",
        "pdf_path = '/content/curry in hurry notes.pdf'  # Example PDF path\n",
        "\n",
        "# Extract text from image\n",
        "image_text = extract_text_from_image(image_path)\n",
        "print(\"Text extracted from image:\")\n",
        "print(image_text)\n",
        "\n",
        "# Extract text from PDF (if needed)\n",
        "pdf_text = extract_text_from_pdf(pdf_path)\n",
        "print(\"\\nText extracted from PDF:\")\n",
        "print(pdf_text)\n"
      ],
      "metadata": {
        "colab": {
          "base_uri": "https://localhost:8080/"
        },
        "id": "a2WZ3oa5k0hP",
        "outputId": "d88efa8e-2dfd-49ca-e1b8-8a4a1cb6dbd1"
      },
      "execution_count": null,
      "outputs": [
        {
          "output_type": "stream",
          "name": "stdout",
          "text": [
            "Text extracted from image:\n",
            "Ensure that you have the latest Urdu language data files. Sometimes, older language\n",
            "\n",
            "models may not perform as well.\n",
            "\n",
            "You could manually download the latest ~urd.traineddata’ file from the Tesseract GitHub\n",
            "\n",
            "repository and place it in the *tessdata” directory.\n",
            "\f\n",
            "\n",
            "Text extracted from PDF:\n",
            "Curry in Hurry Notes: \n",
            " \n",
            "Sarasvathy’s talks about creating a pretend Indian restaurant called \"Curry in a Hurry.\"  \n",
            "She looks at two ways of doing it:  one way follows steps like a recipe, and the other is more \n",
            "flexible and creative.  \n",
            "The first way is based on traditional economic theories that say if we follow certain steps, we will \n",
            "definitely succeed.  \n",
            "Sarasvathy’s uses the first method in her example. She talks about Philip Kotler's ideas from a \n",
            "famous marketing book. Kotler says first, we need to think about who might want our food, and \n",
            "then choose who to sell to, and then figure out how to tell them about our food, and so on. It is like \n",
            "following a recipe for starting a business. \n",
            "1.  Analyze long-run opportunities in the market. \n",
            "2. Research and select target markets. \n",
            "3. Identify segmentation variables and segment the market. \n",
            "4. Develop profiles of resulting segments. \n",
            "5. Evaluate the attractiveness of each segment. \n",
            "6. Select the target segment(s). \n",
            "7. Identify possible positioning concepts for each target segment. \n",
            "8. Select, develop, and communicate the chosen positioning concept. \n",
            "9. Design marketing strategies. \n",
            "10. Plan marketing programs. \n",
            "11. Organize, implement, and control marketing effort. \n",
            " \n",
            "In marketing, there is a process called STP—segmentation, targeting, and positioning. Imagine a \n",
            "new Indian restaurant called 'Curry in a Hurry' in Pittsburgh, Pennsylvania.  \n",
            "To start, the entrepreneur considers all potential customers in the area. By looking at things like \n",
            "demographics, where people live, and how much they earn, she can figure out who might be \n",
            "interested. She might send out surveys or talk to people to find out more. Based on this, she decides \n",
            "to focus on wealthy families who eat out often. This helps her plan what food to serve, how to \n",
            "decorate, and when to open. She also studies other restaurants to predict how popular hers might \n",
            "be it talks about two ways to start a restaurant.  \n",
            "The first way is like starting from the big picture and narrowing down to specifics. For 'Curry in a \n",
            "Hurry,' it might mean going from the whole city to a wealthy neighborhood, and then to specific \n",
            "families. \n",
            " \n",
            "The second way is more creative. Instead of assuming there is already a market and spending lots \n",
            "of money, the entrepreneur starts small. For example, with only $20,000, she might convince \n",
            "someone to collaborate with her or do minimal research to get investors. Another way is to \n",
            "collaborate with existing restaurants or sell food at a counter. \n",
            " \n",
            "She could also try giving samples to people at offices. If they like it, she might start a lunch delivery \n",
            "service. Or, she might find out they like her personality more than the food and switch to something \n",
            "else, like motivational consulting  \n",
            "Starting from the same point, the entrepreneur could end up with different businesses depending \n",
            "on what happens. For example, whoever buys the food first becomes the first target customer. By \n",
            "listening to them and building more customers, she can figure out who likes her food. If it's \n",
            "working women, she might focus on them. She could even start a franchise called 'Women in a \n",
            "Hurry.' \n",
            " \n",
            "Or, if people are more interested in the idea of experiencing different cultures, she could offer \n",
            "catering, party planning, or cultural classes—maybe calling it 'Curry Favors' or 'School of Curry.' \n",
            " \n",
            "If they're interested in traveling, she could offer tours to India and the Far East—maybe calling it \n",
            "'Curryland Travels.' So, depending on what people like, she could end up with different kinds of \n",
            "businesses. \n",
            "When an entrepreneur uses effectuation to build a business, they can end up with many different \n",
            "kinds of businesses, even in different industries. This means the original idea doesn't have to lead \n",
            "to just one type of business—it can lead to several possibilities. Effectuation lets the entrepreneur \n",
            "adapt and change their goals over time, depending on what happens. It's not saying effectuation is \n",
            "better than other ways of thinking, just that it's a way some entrepreneurs think, especially in \n",
            "uncertain situations. \n",
            " \n",
            "In today's world, where things change quickly, it's important for managers to think like \n",
            "entrepreneurs. They need to be able to sense what's happening, act fast, and adapt to changes. To \n",
            "do this, they have to question old ideas and be flexible. This involves rethinking everything about \n",
            "the business—like strategies, organization, and culture. To do this well, people need to be good at \n",
            "adapting their thinking. There are models and surveys to help understand how good someone is at \n",
            "this kind of thinking \n",
            "\n"
          ]
        }
      ]
    },
    {
      "cell_type": "markdown",
      "source": [],
      "metadata": {
        "id": "azrPI-y-lMCa"
      }
    }
  ]
}